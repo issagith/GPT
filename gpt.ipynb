{
 "cells": [
  {
   "cell_type": "code",
   "execution_count": 30,
   "metadata": {},
   "outputs": [
    {
     "data": {
      "text/plain": [
       "<torch._C.Generator at 0x20147b1cb30>"
      ]
     },
     "execution_count": 30,
     "metadata": {},
     "output_type": "execute_result"
    }
   ],
   "source": [
    "import torch\n",
    "import torch.nn as nn\n",
    "from torch.nn import functional as F\n",
    "\n",
    "torch.manual_seed(1337)"
   ]
  },
  {
   "cell_type": "code",
   "execution_count": 3,
   "metadata": {},
   "outputs": [],
   "source": [
    "with open('input.txt', 'r', encoding='utf-8') as f:\n",
    "    text = f.read()"
   ]
  },
  {
   "cell_type": "code",
   "execution_count": 4,
   "metadata": {},
   "outputs": [
    {
     "name": "stdout",
     "output_type": "stream",
     "text": [
      "1115394\n"
     ]
    }
   ],
   "source": [
    "print(len(text))"
   ]
  },
  {
   "cell_type": "code",
   "execution_count": 5,
   "metadata": {},
   "outputs": [
    {
     "name": "stdout",
     "output_type": "stream",
     "text": [
      "First Citizen:\n",
      "Before we proceed any further, hear me speak.\n",
      "\n",
      "All:\n",
      "Speak, speak.\n",
      "\n",
      "First Citizen:\n",
      "You are all resolved rather to die than to famish?\n",
      "\n",
      "All:\n",
      "Resolved. resolved.\n",
      "\n",
      "First Citizen:\n",
      "First, you know Caius Marcius is chief enemy to the people.\n",
      "\n",
      "All:\n",
      "We know't, we know't.\n",
      "\n",
      "First Citizen:\n",
      "Let us kill him, and we'll have corn at our own price.\n",
      "Is't a verdict?\n",
      "\n",
      "All:\n",
      "No more talking on't; let it be done: away, away!\n",
      "\n",
      "Second Citizen:\n",
      "One word, good citizens.\n",
      "\n",
      "First Citizen:\n",
      "We are accounted poor citizens, the patricians good.\n",
      "What authority surfeits on would relieve us: if they\n",
      "would yield us but the superfluity, while it were\n",
      "wholesome, we might guess they relieved us humanely;\n",
      "but they think we are too dear: the leanness that\n",
      "afflicts us, the object of our misery, is as an\n",
      "inventory to particularise their abundance; our\n",
      "sufferance is a gain to them Let us revenge this with\n",
      "our pikes, ere we become rakes: for the gods know I\n",
      "speak this in hunger for bread, not in thirst for revenge.\n",
      "\n",
      "\n"
     ]
    }
   ],
   "source": [
    "print(text[:1000])"
   ]
  },
  {
   "cell_type": "code",
   "execution_count": 6,
   "metadata": {},
   "outputs": [
    {
     "name": "stdout",
     "output_type": "stream",
     "text": [
      "\n",
      " !$&',-.3:;?ABCDEFGHIJKLMNOPQRSTUVWXYZabcdefghijklmnopqrstuvwxyz\n",
      "65\n"
     ]
    }
   ],
   "source": [
    "chars = sorted(list(set(text))) # all the unique chars in this text\n",
    "vocab_size = len(chars)\n",
    "print(''.join(chars))\n",
    "print(vocab_size)"
   ]
  },
  {
   "cell_type": "code",
   "execution_count": 7,
   "metadata": {},
   "outputs": [
    {
     "name": "stdout",
     "output_type": "stream",
     "text": [
      "[46, 43, 50, 50, 53, 1, 61, 53, 56, 50, 42, 1, 2]\n",
      "hello world !\n"
     ]
    }
   ],
   "source": [
    "# Tokenization \n",
    "# We simply create a mapping from char to int \n",
    "stoi = { ch:i for i,ch in enumerate(chars)}\n",
    "itos = { i:ch for i,ch in enumerate(chars)}\n",
    "\n",
    "# Then, a way to encode and decode our chars/words/sentences\n",
    "encode = lambda s: [stoi[ch] for ch in s] # takes a string, output a list of integers\n",
    "decode = lambda l: ''.join([itos[i] for i in l]) # takes a list of integers, output a string\n",
    "\n",
    "print(encode(\"hello world !\"))\n",
    "print(decode(encode(\"hello world !\")))"
   ]
  },
  {
   "cell_type": "code",
   "execution_count": 12,
   "metadata": {},
   "outputs": [
    {
     "name": "stdout",
     "output_type": "stream",
     "text": [
      "torch.Size([1115394]) torch.int64\n",
      "tensor([18, 47, 56, 57, 58,  1, 15, 47, 58, 47])\n"
     ]
    }
   ],
   "source": [
    "# let's now tokenize the whole dataset\n",
    "data = torch.tensor(encode(text), dtype=torch.long)\n",
    "print(data.shape, data.dtype)\n",
    "print(data[:10])"
   ]
  },
  {
   "cell_type": "code",
   "execution_count": 15,
   "metadata": {},
   "outputs": [
    {
     "data": {
      "text/plain": [
       "(1003854, 111540)"
      ]
     },
     "execution_count": 15,
     "metadata": {},
     "output_type": "execute_result"
    }
   ],
   "source": [
    "# Train/Test split\n",
    "\n",
    "n = int(0.9*len(data))\n",
    "train_data = data[:n]\n",
    "test_data = data[n:]\n",
    "\n",
    "len(train_data), len(test_data)"
   ]
  },
  {
   "cell_type": "code",
   "execution_count": 16,
   "metadata": {},
   "outputs": [
    {
     "data": {
      "text/plain": [
       "tensor([18, 47, 56, 57, 58,  1, 15, 47, 58])"
      ]
     },
     "execution_count": 16,
     "metadata": {},
     "output_type": "execute_result"
    }
   ],
   "source": [
    "block_size = 8 # context window of chars\n",
    "train_data[:block_size+1]"
   ]
  },
  {
   "cell_type": "code",
   "execution_count": null,
   "metadata": {},
   "outputs": [
    {
     "name": "stdout",
     "output_type": "stream",
     "text": [
      "input tensor([18]) target: 47\n",
      "input tensor([18, 47]) target: 56\n",
      "input tensor([18, 47, 56]) target: 57\n",
      "input tensor([18, 47, 56, 57]) target: 58\n",
      "input tensor([18, 47, 56, 57, 58]) target: 1\n",
      "input tensor([18, 47, 56, 57, 58,  1]) target: 15\n",
      "input tensor([18, 47, 56, 57, 58,  1, 15]) target: 47\n",
      "input tensor([18, 47, 56, 57, 58,  1, 15, 47]) target: 58\n"
     ]
    }
   ],
   "source": [
    "# Slowly creating/understanding our training dataset\n",
    "x = train_data[:block_size]\n",
    "y = train_data[1:block_size+1]\n",
    "for t in range(block_size):\n",
    "    context = x[:t+1]\n",
    "    target = y[t]\n",
    "    print(f\"input {context} target: {target}\")\n",
    "\n",
    "# we wan't the model to learn to generate from one char all the way to block_size chars"
   ]
  },
  {
   "cell_type": "code",
   "execution_count": null,
   "metadata": {},
   "outputs": [
    {
     "name": "stdout",
     "output_type": "stream",
     "text": [
      "inputs:\n",
      "torch.Size([4, 8])\n",
      "tensor([[24, 43, 58,  5, 57,  1, 46, 43],\n",
      "        [44, 53, 56,  1, 58, 46, 39, 58],\n",
      "        [52, 58,  1, 58, 46, 39, 58,  1],\n",
      "        [25, 17, 27, 10,  0, 21,  1, 54]])\n",
      "targets:\n",
      "torch.Size([4, 8])\n",
      "tensor([[43, 58,  5, 57,  1, 46, 43, 39],\n",
      "        [53, 56,  1, 58, 46, 39, 58,  1],\n",
      "        [58,  1, 58, 46, 39, 58,  1, 46],\n",
      "        [17, 27, 10,  0, 21,  1, 54, 39]])\n",
      "--------\n",
      "input [24] target: 43\n",
      "input [24, 43] target: 58\n",
      "input [24, 43, 58] target: 5\n",
      "input [24, 43, 58, 5] target: 57\n",
      "input [24, 43, 58, 5, 57] target: 1\n",
      "input [24, 43, 58, 5, 57, 1] target: 46\n",
      "input [24, 43, 58, 5, 57, 1, 46] target: 43\n",
      "input [24, 43, 58, 5, 57, 1, 46, 43] target: 39\n",
      "input [44] target: 53\n",
      "input [44, 53] target: 56\n",
      "input [44, 53, 56] target: 1\n",
      "input [44, 53, 56, 1] target: 58\n",
      "input [44, 53, 56, 1, 58] target: 46\n",
      "input [44, 53, 56, 1, 58, 46] target: 39\n",
      "input [44, 53, 56, 1, 58, 46, 39] target: 58\n",
      "input [44, 53, 56, 1, 58, 46, 39, 58] target: 1\n",
      "input [52] target: 58\n",
      "input [52, 58] target: 1\n",
      "input [52, 58, 1] target: 58\n",
      "input [52, 58, 1, 58] target: 46\n",
      "input [52, 58, 1, 58, 46] target: 39\n",
      "input [52, 58, 1, 58, 46, 39] target: 58\n",
      "input [52, 58, 1, 58, 46, 39, 58] target: 1\n",
      "input [52, 58, 1, 58, 46, 39, 58, 1] target: 46\n",
      "input [25] target: 17\n",
      "input [25, 17] target: 27\n",
      "input [25, 17, 27] target: 10\n",
      "input [25, 17, 27, 10] target: 0\n",
      "input [25, 17, 27, 10, 0] target: 21\n",
      "input [25, 17, 27, 10, 0, 21] target: 1\n",
      "input [25, 17, 27, 10, 0, 21, 1] target: 54\n",
      "input [25, 17, 27, 10, 0, 21, 1, 54] target: 39\n"
     ]
    }
   ],
   "source": [
    "# let's create the batches \n",
    "\n",
    "batch_size = 4 # number of independant sequences processed in parallel\n",
    "block_size = 8 # maximum context length for prediction\n",
    "\n",
    "def get_batch(split):\n",
    "    if split == 'train':\n",
    "        data = train_data\n",
    "    else:\n",
    "        data = test_data\n",
    "    \n",
    "    ix = torch.randint(len(data) - block_size, (batch_size,)) # get batch_size random idx in the dataset\n",
    "    x = torch.stack([data[i:i+block_size] for i in ix]) # for each ix, we get the block starting at this window and we stack them all\n",
    "    y = torch.stack([data[i+1:i+block_size+1] for i in ix]) # getting the targets by shifting the window by one\n",
    "    return x,y\n",
    "\n",
    "xb, yb = get_batch(\"train\")\n",
    "print('inputs:')\n",
    "print(xb.shape)\n",
    "print(xb)\n",
    "print('targets:')\n",
    "print(yb.shape)\n",
    "print(yb)\n",
    "\n",
    "print('--------')\n",
    "\n",
    "for b in range(batch_size):\n",
    "    for t in range(block_size):\n",
    "        context = xb[b, :t+1]\n",
    "        target = yb[b, t]\n",
    "        print(f'input {context.tolist()} target: {target}')"
   ]
  },
  {
   "cell_type": "code",
   "execution_count": null,
   "metadata": {},
   "outputs": [
    {
     "name": "stdout",
     "output_type": "stream",
     "text": [
      "torch.Size([32, 65])\n",
      "tensor(4.6596, grad_fn=<NllLossBackward0>)\n"
     ]
    }
   ],
   "source": [
    "# Before implementing a transformer, we start with a bigram model\n",
    "\n",
    "# Note : \n",
    "# B --> batch, T --> time, C --> channel\n",
    "# time is for the context (words come sequentially)\n",
    "# channel is the embedding dim (vocab_size here)\n",
    "class BigramLanguageModel(nn.Module):\n",
    "    def __init__(self, vocab_size):\n",
    "        super().__init__()\n",
    "        # each token directly reads off the logits for the next token from a lookup table\n",
    "        self.token_embedding_table = nn.Embedding(vocab_size, vocab_size) \n",
    "\n",
    "    def forward(self, idx, targets=None):\n",
    "        #idx and targets are both (B,T) tensor of ints\n",
    "        logits = self.token_embedding_table(idx) #(B,T,C)\n",
    "\n",
    "        if targets is None:\n",
    "            loss = None\n",
    "        else:\n",
    "            # PB : the cross entropy loss wan'ts a (B,C,T)\n",
    "            # Fix : we reshape the logits\n",
    "            B,T,C = logits.shape # unpacking the shape\n",
    "            logits = logits.view(B*T,C)\n",
    "            targets = targets.view(B*T) # it must only be a 1D vector\n",
    "            loss = F.cross_entropy(logits, targets)\n",
    "        return logits, loss \n",
    "    \n",
    "    def generate(self, idx, max_new_tokens):\n",
    "        # for now this generate fct is overkill \n",
    "        # We are feeding it with all the context but it's useless as its a bigram model \n",
    "        # Still, we implement it like this so that it will be unchanged for transformers\n",
    "\n",
    "        # idx is (B,T) array of indices in the current context\n",
    "        for _ in range(max_new_tokens):\n",
    "            logits, loss = self(idx) # get the preds\n",
    "            # focus only on the last time step (i.e last char)\n",
    "            logits = logits[:, -1, :] # becomes (B,C) bc it's only one embedded char for each sequence in the batch\n",
    "            probs = F.softmax(logits, dim=1) # (B,C)\n",
    "            # sample from the distribution\n",
    "            idx_next = torch.multinomial(probs, num_samples=1) # (B,1) choose one for each sequence in the batch\n",
    "            # append sampled index to the running sequence\n",
    "            idx = torch.cat((idx, idx_next), dim=1) # (B, T+1)\n",
    "        return idx\n",
    "    \n",
    "m = BigramLanguageModel(vocab_size)\n",
    "out, loss = m(xb, yb)\n",
    "print(out.shape) # (B,T,C) = (batch_size, block_size, vocab_size)\n",
    "print(loss)"
   ]
  },
  {
   "cell_type": "code",
   "execution_count": null,
   "metadata": {},
   "outputs": [
    {
     "name": "stdout",
     "output_type": "stream",
     "text": [
      "torch.Size([4, 8])\n",
      "4 8 65\n",
      "torch.Size([32, 65])\n",
      "tensor([-1.1407,  0.1674,  3.2928,  0.0336,  0.7214, -0.1166,  0.1251,  0.8942,\n",
      "        -0.2180, -0.1490, -0.4618, -1.3175,  0.2292, -0.0070, -0.4757, -0.7134,\n",
      "         0.4785, -1.2345, -1.1819, -0.9485,  0.9860,  0.2522,  1.0774, -0.1448,\n",
      "         1.1254,  1.5455, -1.6235, -0.6772, -1.5064,  1.0463, -0.4910, -0.4300,\n",
      "        -1.1951, -1.1122,  0.3443,  0.8044, -0.8518, -0.0058,  0.1490,  0.1472,\n",
      "        -1.0353, -0.3813,  0.6480,  0.5152,  0.2458, -1.1127,  0.0113, -2.0395,\n",
      "         0.7252,  0.1996,  0.1466,  1.9144, -0.5803,  0.2800,  0.1617,  2.4106,\n",
      "         0.9564, -1.8647, -0.6692, -0.5670, -0.2337, -0.4600,  1.3712,  0.7031,\n",
      "        -1.1733], grad_fn=<SelectBackward0>)\n",
      "tensor([-1.1407,  0.1674,  3.2928,  0.0336,  0.7214, -0.1166,  0.1251,  0.8942,\n",
      "        -0.2180, -0.1490, -0.4618, -1.3175,  0.2292, -0.0070, -0.4757, -0.7134,\n",
      "         0.4785, -1.2345, -1.1819, -0.9485,  0.9860,  0.2522,  1.0774, -0.1448,\n",
      "         1.1254,  1.5455, -1.6235, -0.6772, -1.5064,  1.0463, -0.4910, -0.4300,\n",
      "        -1.1951, -1.1122,  0.3443,  0.8044, -0.8518, -0.0058,  0.1490,  0.1472,\n",
      "        -1.0353, -0.3813,  0.6480,  0.5152,  0.2458, -1.1127,  0.0113, -2.0395,\n",
      "         0.7252,  0.1996,  0.1466,  1.9144, -0.5803,  0.2800,  0.1617,  2.4106,\n",
      "         0.9564, -1.8647, -0.6692, -0.5670, -0.2337, -0.4600,  1.3712,  0.7031,\n",
      "        -1.1733], grad_fn=<SelectBackward0>)\n"
     ]
    }
   ],
   "source": [
    "# visualize the reshape of logits and targets : \n",
    "# making sure the dimensions are right \n",
    "print(xb.shape) # (B,T) = (4,8)\n",
    "logits = m.token_embedding_table(xb) # (B,T,C) = (4,8,65)\n",
    "B,T,C = logits.shape\n",
    "print(B,T,C)\n",
    "print(logits.view(B*T,C).shape) # (BT, C) = (32,65)\n",
    "\n",
    "# from a list of matrices of embedded char sequences\n",
    "# to a matrice of embedded char sequences \n",
    "# i.e we concatenate \n",
    "print(logits[1][0]) # second matrice, first embedding\n",
    "print(logits.view(B*T,C)[8]) # embedding on row 9 i.e same  \n",
    "# it's really a concatenation or stacking of the batches so that we can use the cross entropy loss\n"
   ]
  },
  {
   "cell_type": "code",
   "execution_count": null,
   "metadata": {},
   "outputs": [
    {
     "data": {
      "text/plain": [
       "tensor(4.1744)"
      ]
     },
     "execution_count": 80,
     "metadata": {},
     "output_type": "execute_result"
    }
   ],
   "source": [
    "-torch.log(torch.tensor(1/vocab_size)) # cross entropy if the prior is uniform (as it should be)\n",
    "# It's lower than the current loss so it's not good\n",
    "# we can resolve that by initalizing proprely but we won't do it here as it's just a baseline model"
   ]
  },
  {
   "cell_type": "code",
   "execution_count": null,
   "metadata": {},
   "outputs": [
    {
     "name": "stdout",
     "output_type": "stream",
     "text": [
      "\n",
      "TlXrvCAqOA!JKmHxETa-:S;GbQdPFw-VY:DrKm:,aJ$sCDrXEo.vef,R\n",
      "QIV:kB'wrwGz-TmdKJP,jlRO,h;zK\n",
      ",IwSUMhdWNenE\n"
     ]
    }
   ],
   "source": [
    "# Let's generate from the model \n",
    "idx = torch.zeros((1,1), dtype=torch.long) # just a zero tensor \n",
    "# zero represents a newline char in our dict so it's coherent to use it as a first char\n",
    "\n",
    "generated_idx = m.generate(idx, max_new_tokens=100)[0].tolist() # [0] because we access the \"single batch\"\n",
    "print(decode(generated_idx))"
   ]
  },
  {
   "cell_type": "code",
   "execution_count": 126,
   "metadata": {},
   "outputs": [
    {
     "data": {
      "text/plain": [
       "torch.Size([1, 101])"
      ]
     },
     "execution_count": 126,
     "metadata": {},
     "output_type": "execute_result"
    }
   ],
   "source": [
    "m.generate(idx, max_new_tokens=100).shape"
   ]
  },
  {
   "cell_type": "code",
   "execution_count": 131,
   "metadata": {},
   "outputs": [],
   "source": [
    "optimizer = torch.optim.AdamW(m.parameters(), lr=1e-3)"
   ]
  },
  {
   "cell_type": "code",
   "execution_count": 130,
   "metadata": {},
   "outputs": [
    {
     "name": "stdout",
     "output_type": "stream",
     "text": [
      "<bound method Module.parameters of BigramLanguageModel(\n",
      "  (token_embedding_table): Embedding(65, 65)\n",
      ")>\n"
     ]
    }
   ],
   "source": [
    "print(m.parameters)"
   ]
  },
  {
   "cell_type": "code",
   "execution_count": 137,
   "metadata": {},
   "outputs": [
    {
     "name": "stdout",
     "output_type": "stream",
     "text": [
      "2.4795644283294678\n"
     ]
    }
   ],
   "source": [
    "# training loop \n",
    "batch_size = 32\n",
    "\n",
    "for steps in range(10000):\n",
    "    # sample a batch of data\n",
    "    xb, yb = get_batch('train')\n",
    "\n",
    "    # evaluate the loss\n",
    "    logits, loss = m(xb, yb)\n",
    "    optimizer.zero_grad(set_to_none=True)\n",
    "    loss.backward()\n",
    "    optimizer.step()\n",
    "\n",
    "print(loss.item())"
   ]
  },
  {
   "cell_type": "code",
   "execution_count": null,
   "metadata": {},
   "outputs": [
    {
     "name": "stdout",
     "output_type": "stream",
     "text": [
      "\n",
      "Hotod an youchatre:\n",
      "Theean ourmatis t s:\n",
      "WAR:\n",
      "Sofe I isesealas f rdsthe aly thoumeit wamands at umbenererdepras thepr'do d,\n",
      "Thinjeere rnie p me!\n",
      "\n",
      "A:\n",
      "BUS:\n",
      "Anere; ifitithedson abeure I alew?\n",
      "s th.\n",
      "\n",
      "Louledr, todin de hit BANodden?\n",
      "KER:\n",
      "\n",
      "HAsead KEl s st t I iteen h te-memule idongrcoatay se:\n",
      "CUTe'lld mm\n"
     ]
    }
   ],
   "source": [
    "# let's see how much we improved\n",
    "idx = torch.zeros((1,1), dtype=torch.long) \n",
    "print(decode(m.generate(idx, max_new_tokens=300)[0].tolist()))\n",
    "# It's way better that above (at initialization)\n",
    "# But its still terrible"
   ]
  },
  {
   "cell_type": "code",
   "execution_count": 145,
   "metadata": {},
   "outputs": [
    {
     "data": {
      "image/png": "[encoded data removed]",
      "text/plain": [
       "<Figure size 1500x1500 with 2 Axes>"
      ]
     },
     "metadata": {},
     "output_type": "display_data"
    }
   ],
   "source": [
    "import numpy as np\n",
    "\n",
    "import matplotlib.pyplot as plt\n",
    "\n",
    "# Get the weight matrix from our embedding table\n",
    "weights = m.token_embedding_table.weight.detach().cpu().numpy()\n",
    "\n",
    "plt.figure(figsize=(15, 15))\n",
    "plt.imshow(weights, cmap='viridis', aspect='auto')\n",
    "plt.colorbar()\n",
    "\n",
    "# Label rows and columns using itos (index-to-char mapping)\n",
    "plt.xticks(ticks=np.arange(vocab_size), labels=[itos[i] for i in range(vocab_size)], rotation=90, fontsize=8)\n",
    "plt.yticks(ticks=np.arange(vocab_size), labels=[itos[i] for i in range(vocab_size)], fontsize=8)\n",
    "\n",
    "plt.xlabel(\"Predicted Token\")\n",
    "plt.ylabel(\"Input Token\")\n",
    "plt.title(\"Heatmap of the Token Embedding Table\")\n",
    "plt.show()"
   ]
  },
  {
   "cell_type": "code",
   "execution_count": 146,
   "metadata": {},
   "outputs": [
    {
     "name": "stdout",
     "output_type": "stream",
     "text": [
      "torch.Size([256, 65])\n"
     ]
    }
   ],
   "source": [
    "print(logits.shape)"
   ]
  }
 ],
 "metadata": {
  "kernelspec": {
   "display_name": "Python 3",
   "language": "python",
   "name": "python3"
  },
  "language_info": {
   "codemirror_mode": {
    "name": "ipython",
    "version": 3
   },
   "file_extension": ".py",
   "mimetype": "text/x-python",
   "name": "python",
   "nbconvert_exporter": "python",
   "pygments_lexer": "ipython3",
   "version": "3.12.0"
  }
 },
 "nbformat": 4,
 "nbformat_minor": 2
}
