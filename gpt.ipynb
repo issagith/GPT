{
 "cells": [
  {
   "cell_type": "code",
   "execution_count": 2,
   "metadata": {},
   "outputs": [
    {
     "data": {
      "text/plain": [
       "<torch._C.Generator at 0x27d33224290>"
      ]
     },
     "execution_count": 2,
     "metadata": {},
     "output_type": "execute_result"
    }
   ],
   "source": [
    "import torch\n",
    "import torch.nn as nn\n",
    "from torch.nn import functional as F\n",
    "\n",
    "torch.manual_seed(1337)"
   ]
  },
  {
   "cell_type": "code",
   "execution_count": 3,
   "metadata": {},
   "outputs": [],
   "source": [
    "with open('input.txt', 'r', encoding='utf-8') as f:\n",
    "    text = f.read()"
   ]
  },
  {
   "cell_type": "code",
   "execution_count": 4,
   "metadata": {},
   "outputs": [
    {
     "name": "stdout",
     "output_type": "stream",
     "text": [
      "1115394\n"
     ]
    }
   ],
   "source": [
    "print(len(text))"
   ]
  },
  {
   "cell_type": "code",
   "execution_count": 5,
   "metadata": {},
   "outputs": [
    {
     "name": "stdout",
     "output_type": "stream",
     "text": [
      "First Citizen:\n",
      "Before we proceed any further, hear me speak.\n",
      "\n",
      "All:\n",
      "Speak, speak.\n",
      "\n",
      "First Citizen:\n",
      "You are all resolved rather to die than to famish?\n",
      "\n",
      "All:\n",
      "Resolved. resolved.\n",
      "\n",
      "First Citizen:\n",
      "First, you know Caius Marcius is chief enemy to the people.\n",
      "\n",
      "All:\n",
      "We know't, we know't.\n",
      "\n",
      "First Citizen:\n",
      "Let us kill him, and we'll have corn at our own price.\n",
      "Is't a verdict?\n",
      "\n",
      "All:\n",
      "No more talking on't; let it be done: away, away!\n",
      "\n",
      "Second Citizen:\n",
      "One word, good citizens.\n",
      "\n",
      "First Citizen:\n",
      "We are accounted poor citizens, the patricians good.\n",
      "What authority surfeits on would relieve us: if they\n",
      "would yield us but the superfluity, while it were\n",
      "wholesome, we might guess they relieved us humanely;\n",
      "but they think we are too dear: the leanness that\n",
      "afflicts us, the object of our misery, is as an\n",
      "inventory to particularise their abundance; our\n",
      "sufferance is a gain to them Let us revenge this with\n",
      "our pikes, ere we become rakes: for the gods know I\n",
      "speak this in hunger for bread, not in thirst for revenge.\n",
      "\n",
      "\n"
     ]
    }
   ],
   "source": [
    "print(text[:1000])"
   ]
  },
  {
   "cell_type": "code",
   "execution_count": 6,
   "metadata": {},
   "outputs": [
    {
     "name": "stdout",
     "output_type": "stream",
     "text": [
      "\n",
      " !$&',-.3:;?ABCDEFGHIJKLMNOPQRSTUVWXYZabcdefghijklmnopqrstuvwxyz\n",
      "65\n"
     ]
    }
   ],
   "source": [
    "chars = sorted(list(set(text))) # all the unique chars in this text\n",
    "vocab_size = len(chars)\n",
    "print(''.join(chars))\n",
    "print(vocab_size)"
   ]
  },
  {
   "cell_type": "code",
   "execution_count": 7,
   "metadata": {},
   "outputs": [
    {
     "name": "stdout",
     "output_type": "stream",
     "text": [
      "[46, 43, 50, 50, 53, 1, 61, 53, 56, 50, 42, 1, 2]\n",
      "hello world !\n"
     ]
    }
   ],
   "source": [
    "# Tokenization \n",
    "# We simply create a mapping from char to int \n",
    "stoi = { ch:i for i,ch in enumerate(chars)}\n",
    "itos = { i:ch for i,ch in enumerate(chars)}\n",
    "\n",
    "# Then, a way to encode and decode our chars/words/sentences\n",
    "encode = lambda s: [stoi[ch] for ch in s] # takes a string, output a list of integers\n",
    "decode = lambda l: ''.join([itos[i] for i in l]) # takes a list of integers, output a string\n",
    "\n",
    "print(encode(\"hello world !\"))\n",
    "print(decode(encode(\"hello world !\")))"
   ]
  },
  {
   "cell_type": "code",
   "execution_count": 8,
   "metadata": {},
   "outputs": [
    {
     "name": "stdout",
     "output_type": "stream",
     "text": [
      "torch.Size([1115394]) torch.int64\n",
      "tensor([18, 47, 56, 57, 58,  1, 15, 47, 58, 47])\n"
     ]
    }
   ],
   "source": [
    "# let's now tokenize the whole dataset\n",
    "data = torch.tensor(encode(text), dtype=torch.long)\n",
    "print(data.shape, data.dtype)\n",
    "print(data[:10])"
   ]
  },
  {
   "cell_type": "code",
   "execution_count": 9,
   "metadata": {},
   "outputs": [
    {
     "data": {
      "text/plain": [
       "(1003854, 111540)"
      ]
     },
     "execution_count": 9,
     "metadata": {},
     "output_type": "execute_result"
    }
   ],
   "source": [
    "# Train/Test split\n",
    "\n",
    "n = int(0.9*len(data))\n",
    "train_data = data[:n]\n",
    "test_data = data[n:]\n",
    "\n",
    "len(train_data), len(test_data)"
   ]
  },
  {
   "cell_type": "code",
   "execution_count": 10,
   "metadata": {},
   "outputs": [
    {
     "data": {
      "text/plain": [
       "tensor([18, 47, 56, 57, 58,  1, 15, 47, 58])"
      ]
     },
     "execution_count": 10,
     "metadata": {},
     "output_type": "execute_result"
    }
   ],
   "source": [
    "block_size = 8 # context window of chars\n",
    "train_data[:block_size+1]"
   ]
  },
  {
   "cell_type": "code",
   "execution_count": 11,
   "metadata": {},
   "outputs": [
    {
     "name": "stdout",
     "output_type": "stream",
     "text": [
      "input tensor([18]) target: 47\n",
      "input tensor([18, 47]) target: 56\n",
      "input tensor([18, 47, 56]) target: 57\n",
      "input tensor([18, 47, 56, 57]) target: 58\n",
      "input tensor([18, 47, 56, 57, 58]) target: 1\n",
      "input tensor([18, 47, 56, 57, 58,  1]) target: 15\n",
      "input tensor([18, 47, 56, 57, 58,  1, 15]) target: 47\n",
      "input tensor([18, 47, 56, 57, 58,  1, 15, 47]) target: 58\n"
     ]
    }
   ],
   "source": [
    "# Slowly creating/understanding our training dataset\n",
    "x = train_data[:block_size]\n",
    "y = train_data[1:block_size+1]\n",
    "for t in range(block_size):\n",
    "    context = x[:t+1]\n",
    "    target = y[t]\n",
    "    print(f\"input {context} target: {target}\")\n",
    "\n",
    "# we wan't the model to learn to generate from one char all the way to block_size chars"
   ]
  },
  {
   "cell_type": "code",
   "execution_count": 12,
   "metadata": {},
   "outputs": [
    {
     "name": "stdout",
     "output_type": "stream",
     "text": [
      "inputs:\n",
      "torch.Size([4, 8])\n",
      "tensor([[24, 43, 58,  5, 57,  1, 46, 43],\n",
      "        [44, 53, 56,  1, 58, 46, 39, 58],\n",
      "        [52, 58,  1, 58, 46, 39, 58,  1],\n",
      "        [25, 17, 27, 10,  0, 21,  1, 54]])\n",
      "targets:\n",
      "torch.Size([4, 8])\n",
      "tensor([[43, 58,  5, 57,  1, 46, 43, 39],\n",
      "        [53, 56,  1, 58, 46, 39, 58,  1],\n",
      "        [58,  1, 58, 46, 39, 58,  1, 46],\n",
      "        [17, 27, 10,  0, 21,  1, 54, 39]])\n",
      "--------\n",
      "input [24] target: 43\n",
      "input [24, 43] target: 58\n",
      "input [24, 43, 58] target: 5\n",
      "input [24, 43, 58, 5] target: 57\n",
      "input [24, 43, 58, 5, 57] target: 1\n",
      "input [24, 43, 58, 5, 57, 1] target: 46\n",
      "input [24, 43, 58, 5, 57, 1, 46] target: 43\n",
      "input [24, 43, 58, 5, 57, 1, 46, 43] target: 39\n",
      "input [44] target: 53\n",
      "input [44, 53] target: 56\n",
      "input [44, 53, 56] target: 1\n",
      "input [44, 53, 56, 1] target: 58\n",
      "input [44, 53, 56, 1, 58] target: 46\n",
      "input [44, 53, 56, 1, 58, 46] target: 39\n",
      "input [44, 53, 56, 1, 58, 46, 39] target: 58\n",
      "input [44, 53, 56, 1, 58, 46, 39, 58] target: 1\n",
      "input [52] target: 58\n",
      "input [52, 58] target: 1\n",
      "input [52, 58, 1] target: 58\n",
      "input [52, 58, 1, 58] target: 46\n",
      "input [52, 58, 1, 58, 46] target: 39\n",
      "input [52, 58, 1, 58, 46, 39] target: 58\n",
      "input [52, 58, 1, 58, 46, 39, 58] target: 1\n",
      "input [52, 58, 1, 58, 46, 39, 58, 1] target: 46\n",
      "input [25] target: 17\n",
      "input [25, 17] target: 27\n",
      "input [25, 17, 27] target: 10\n",
      "input [25, 17, 27, 10] target: 0\n",
      "input [25, 17, 27, 10, 0] target: 21\n",
      "input [25, 17, 27, 10, 0, 21] target: 1\n",
      "input [25, 17, 27, 10, 0, 21, 1] target: 54\n",
      "input [25, 17, 27, 10, 0, 21, 1, 54] target: 39\n"
     ]
    }
   ],
   "source": [
    "# let's create the batches \n",
    "\n",
    "batch_size = 4 # number of independant sequences processed in parallel\n",
    "block_size = 8 # maximum context length for prediction\n",
    "\n",
    "def get_batch(split):\n",
    "    if split == 'train':\n",
    "        data = train_data\n",
    "    else:\n",
    "        data = test_data\n",
    "    \n",
    "    ix = torch.randint(len(data) - block_size, (batch_size,)) # get batch_size random idx in the dataset\n",
    "    x = torch.stack([data[i:i+block_size] for i in ix]) # for each ix, we get the block starting at this window and we stack them all\n",
    "    y = torch.stack([data[i+1:i+block_size+1] for i in ix]) # getting the targets by shifting the window by one\n",
    "    return x,y\n",
    "\n",
    "xb, yb = get_batch(\"train\")\n",
    "print('inputs:')\n",
    "print(xb.shape)\n",
    "print(xb)\n",
    "print('targets:')\n",
    "print(yb.shape)\n",
    "print(yb)\n",
    "\n",
    "print('--------')\n",
    "\n",
    "for b in range(batch_size):\n",
    "    for t in range(block_size):\n",
    "        context = xb[b, :t+1]\n",
    "        target = yb[b, t]\n",
    "        print(f'input {context.tolist()} target: {target}')"
   ]
  },
  {
   "cell_type": "code",
   "execution_count": 13,
   "metadata": {},
   "outputs": [
    {
     "name": "stdout",
     "output_type": "stream",
     "text": [
      "torch.Size([32, 65])"
     ]
    },
    {
     "name": "stdout",
     "output_type": "stream",
     "text": [
      "\n",
      "tensor(5.0364, grad_fn=<NllLossBackward0>)\n"
     ]
    }
   ],
   "source": [
    "# Before implementing a transformer, we start with a bigram model\n",
    "\n",
    "# Note : \n",
    "# B --> batch, T --> time, C --> channel\n",
    "# time is for the context (words come sequentially)\n",
    "# channel is the embedding dim (vocab_size here)\n",
    "class BigramLanguageModel(nn.Module):\n",
    "    def __init__(self, vocab_size):\n",
    "        super().__init__()\n",
    "        # each token directly reads off the logits for the next token from a lookup table\n",
    "        self.token_embedding_table = nn.Embedding(vocab_size, vocab_size) \n",
    "\n",
    "    def forward(self, idx, targets=None):\n",
    "        #idx and targets are both (B,T) tensor of ints\n",
    "        logits = self.token_embedding_table(idx) #(B,T,C)\n",
    "\n",
    "        if targets is None:\n",
    "            loss = None\n",
    "        else:\n",
    "            # PB : the cross entropy loss wan'ts a (B,C,T)\n",
    "            # Fix : we reshape the logits\n",
    "            B,T,C = logits.shape # unpacking the shape\n",
    "            logits = logits.view(B*T,C)\n",
    "            targets = targets.view(B*T) # it must only be a 1D vector\n",
    "            loss = F.cross_entropy(logits, targets)\n",
    "        return logits, loss \n",
    "    \n",
    "    def generate(self, idx, max_new_tokens):\n",
    "        # for now this generate fct is overkill \n",
    "        # We are feeding it with all the context but it's useless as its a bigram model \n",
    "        # Still, we implement it like this so that it will be unchanged for transformers\n",
    "\n",
    "        # idx is (B,T) array of indices in the current context\n",
    "        for _ in range(max_new_tokens):\n",
    "            logits, loss = self(idx) # get the preds\n",
    "            # focus only on the last time step (i.e last char)\n",
    "            logits = logits[:, -1, :] # becomes (B,C) bc it's only one embedded char for each sequence in the batch\n",
    "            probs = F.softmax(logits, dim=1) # (B,C)\n",
    "            # sample from the distribution\n",
    "            idx_next = torch.multinomial(probs, num_samples=1) # (B,1) choose one for each sequence in the batch\n",
    "            # append sampled index to the running sequence\n",
    "            idx = torch.cat((idx, idx_next), dim=1) # (B, T+1)\n",
    "        return idx\n",
    "    \n",
    "m = BigramLanguageModel(vocab_size)\n",
    "out, loss = m(xb, yb)\n",
    "print(out.shape) # (B,T,C) = (batch_size, block_size, vocab_size)\n",
    "print(loss)"
   ]
  },
  {
   "cell_type": "code",
   "execution_count": 14,
   "metadata": {},
   "outputs": [
    {
     "name": "stdout",
     "output_type": "stream",
     "text": [
      "torch.Size([4, 8])\n",
      "4 8 65\n",
      "torch.Size([32, 65])\n",
      "tensor([-0.3173, -2.2339, -1.4059,  1.2754,  0.3269,  0.4072,  0.9861, -1.3452,\n",
      "        -0.0214, -0.0606,  0.8196,  0.9585, -1.5620, -0.9595,  1.8561,  0.1731,\n",
      "        -0.6004, -0.1511, -0.2633, -0.2980, -0.6959,  0.8446,  2.3401,  0.5713,\n",
      "         0.7937, -2.2403, -0.0907,  0.3705, -0.1498,  0.3753, -0.2322, -0.6855,\n",
      "        -1.2521,  0.8792, -0.9479, -0.9450, -1.6462, -1.6728, -0.7227, -0.1755,\n",
      "        -0.2187, -1.6041,  0.9001,  0.4649, -0.1040,  1.0264,  1.6527, -0.1772,\n",
      "        -0.3859,  0.9534, -1.7580, -0.1748,  0.2244, -0.1926,  0.2210,  0.7663,\n",
      "        -0.5540, -0.2526,  0.2016, -0.3885,  1.3035,  0.6635,  0.2673, -0.0410,\n",
      "         1.0837], grad_fn=<SelectBackward0>)\n",
      "tensor([-0.3173, -2.2339, -1.4059,  1.2754,  0.3269,  0.4072,  0.9861, -1.3452,\n",
      "        -0.0214, -0.0606,  0.8196,  0.9585, -1.5620, -0.9595,  1.8561,  0.1731,\n",
      "        -0.6004, -0.1511, -0.2633, -0.2980, -0.6959,  0.8446,  2.3401,  0.5713,\n",
      "         0.7937, -2.2403, -0.0907,  0.3705, -0.1498,  0.3753, -0.2322, -0.6855,\n",
      "        -1.2521,  0.8792, -0.9479, -0.9450, -1.6462, -1.6728, -0.7227, -0.1755,\n",
      "        -0.2187, -1.6041,  0.9001,  0.4649, -0.1040,  1.0264,  1.6527, -0.1772,\n",
      "        -0.3859,  0.9534, -1.7580, -0.1748,  0.2244, -0.1926,  0.2210,  0.7663,\n",
      "        -0.5540, -0.2526,  0.2016, -0.3885,  1.3035,  0.6635,  0.2673, -0.0410,\n",
      "         1.0837], grad_fn=<SelectBackward0>)\n"
     ]
    }
   ],
   "source": [
    "# visualize the reshape of logits and targets : \n",
    "# making sure the dimensions are right \n",
    "print(xb.shape) # (B,T) = (4,8)\n",
    "logits = m.token_embedding_table(xb) # (B,T,C) = (4,8,65)\n",
    "B,T,C = logits.shape\n",
    "print(B,T,C)\n",
    "print(logits.view(B*T,C).shape) # (BT, C) = (32,65)\n",
    "\n",
    "# from a list of matrices of embedded char sequences\n",
    "# to a matrice of embedded char sequences \n",
    "# i.e we concatenate \n",
    "print(logits[1][0]) # second matrice, first embedding\n",
    "print(logits.view(B*T,C)[8]) # embedding on row 9 i.e same  \n",
    "# it's really a concatenation or stacking of the batches so that we can use the cross entropy loss\n"
   ]
  },
  {
   "cell_type": "code",
   "execution_count": 15,
   "metadata": {},
   "outputs": [
    {
     "data": {
      "text/plain": [
       "tensor(4.1744)"
      ]
     },
     "execution_count": 15,
     "metadata": {},
     "output_type": "execute_result"
    }
   ],
   "source": [
    "-torch.log(torch.tensor(1/vocab_size)) # cross entropy if the prior is uniform (as it should be)\n",
    "# It's lower than the current loss so it's not good\n",
    "# we can resolve that by initalizing proprely but we won't do it here as it's just a baseline model"
   ]
  },
  {
   "cell_type": "code",
   "execution_count": 16,
   "metadata": {},
   "outputs": [
    {
     "name": "stdout",
     "output_type": "stream",
     "text": [
      "\n",
      "l-QYjt'CL?jLDuQcLzy'RIo;'KdhpV\n",
      "vLixa,nswYZwLEPS'ptIZqOZJ$CA$zy-QTkeMk x.gQSFCLg!iW3fO!3DGXAqTsq3pdgq\n"
     ]
    }
   ],
   "source": [
    "# Let's generate from the model \n",
    "idx = torch.zeros((1,1), dtype=torch.long) # just a zero tensor \n",
    "# zero represents a newline char in our dict so it's coherent to use it as a first char\n",
    "\n",
    "generated_idx = m.generate(idx, max_new_tokens=100)[0].tolist() # [0] because we access the \"single batch\"\n",
    "print(decode(generated_idx))"
   ]
  },
  {
   "cell_type": "code",
   "execution_count": 17,
   "metadata": {},
   "outputs": [
    {
     "data": {
      "text/plain": [
       "torch.Size([1, 101])"
      ]
     },
     "execution_count": 17,
     "metadata": {},
     "output_type": "execute_result"
    }
   ],
   "source": [
    "m.generate(idx, max_new_tokens=100).shape"
   ]
  },
  {
   "cell_type": "code",
   "execution_count": 18,
   "metadata": {},
   "outputs": [],
   "source": [
    "optimizer = torch.optim.AdamW(m.parameters(), lr=1e-3)"
   ]
  },
  {
   "cell_type": "code",
   "execution_count": 19,
   "metadata": {},
   "outputs": [
    {
     "name": "stdout",
     "output_type": "stream",
     "text": [
      "<bound method Module.parameters of BigramLanguageModel(\n",
      "  (token_embedding_table): Embedding(65, 65)\n",
      ")>\n"
     ]
    }
   ],
   "source": [
    "print(m.parameters)"
   ]
  },
  {
   "cell_type": "code",
   "execution_count": 20,
   "metadata": {},
   "outputs": [
    {
     "name": "stdout",
     "output_type": "stream",
     "text": [
      "2.416266441345215\n"
     ]
    }
   ],
   "source": [
    "# training loop \n",
    "batch_size = 32\n",
    "\n",
    "for steps in range(10000):\n",
    "    # sample a batch of data\n",
    "    xb, yb = get_batch('train')\n",
    "\n",
    "    # evaluate the loss\n",
    "    logits, loss = m(xb, yb)\n",
    "    optimizer.zero_grad(set_to_none=True)\n",
    "    loss.backward()\n",
    "    optimizer.step()\n",
    "\n",
    "print(loss.item())"
   ]
  },
  {
   "cell_type": "code",
   "execution_count": 21,
   "metadata": {},
   "outputs": [
    {
     "name": "stdout",
     "output_type": "stream",
     "text": [
      "\n",
      "BRouthe sssit ey\n",
      "KINld pe wither vouprroutherccnohathe; d!\n",
      "My hind tt hinig t ouchos tes; st yo hind wotte grotonear 'so itJas\n",
      "Waketancotha:\n",
      "h hay.JUCLUKn prids, r loncave w hollular s O:\n",
      "HIs; ht anjx?\n",
      "\n",
      "DUThinqunt.\n",
      "\n",
      "LaZEESTEORDY:\n",
      "h l.\n",
      "KEONGBUCHandspo be y,-JZNEEYowddy scace, tridesar, wnl'shenous s \n"
     ]
    }
   ],
   "source": [
    "# let's see how much we improved\n",
    "idx = torch.zeros((1,1), dtype=torch.long) \n",
    "print(decode(m.generate(idx, max_new_tokens=300)[0].tolist()))\n",
    "# It's way better that above (at initialization)\n",
    "# But its still terrible"
   ]
  },
  {
   "cell_type": "code",
   "execution_count": 22,
   "metadata": {},
   "outputs": [
    {
     "data": {
      "image/png": "[encoded data removed]",
      "text/plain": [
       "<Figure size 1500x1500 with 2 Axes>"
      ]
     },
     "metadata": {},
     "output_type": "display_data"
    }
   ],
   "source": [
    "import numpy as np\n",
    "\n",
    "import matplotlib.pyplot as plt\n",
    "\n",
    "# Get the weight matrix from our embedding table\n",
    "weights = m.token_embedding_table.weight.detach().cpu().numpy()\n",
    "\n",
    "plt.figure(figsize=(15, 15))\n",
    "plt.imshow(weights, cmap='viridis', aspect='auto')\n",
    "plt.colorbar()\n",
    "\n",
    "# Label rows and columns using itos (index-to-char mapping)\n",
    "plt.xticks(ticks=np.arange(vocab_size), labels=[itos[i] for i in range(vocab_size)], rotation=90, fontsize=8)\n",
    "plt.yticks(ticks=np.arange(vocab_size), labels=[itos[i] for i in range(vocab_size)], fontsize=8)\n",
    "\n",
    "plt.xlabel(\"Predicted Token\")\n",
    "plt.ylabel(\"Input Token\")\n",
    "plt.title(\"Heatmap of the Token Embedding Table\")\n",
    "plt.show()"
   ]
  },
  {
   "cell_type": "code",
   "execution_count": 23,
   "metadata": {},
   "outputs": [
    {
     "name": "stdout",
     "output_type": "stream",
     "text": [
      "torch.Size([256, 65])\n"
     ]
    }
   ],
   "source": [
    "print(logits.shape)"
   ]
  },
  {
   "cell_type": "markdown",
   "metadata": {},
   "source": [
    "# Let's start the GPT implementation. "
   ]
  },
  {
   "cell_type": "markdown",
   "metadata": {},
   "source": [
    "### The mathematical trick in self-attention"
   ]
  },
  {
   "cell_type": "code",
   "execution_count": 24,
   "metadata": {},
   "outputs": [
    {
     "data": {
      "text/plain": [
       "torch.Size([4, 8, 2])"
      ]
     },
     "execution_count": 24,
     "metadata": {},
     "output_type": "execute_result"
    }
   ],
   "source": [
    "# consider the following toy example:\n",
    "B,T,C = 4,8,2\n",
    "x = torch.randn(B,T,C)\n",
    "x.shape"
   ]
  },
  {
   "cell_type": "code",
   "execution_count": null,
   "metadata": {},
   "outputs": [
    {
     "data": {
      "text/plain": [
       "(tensor([[-0.1978,  0.5817],\n",
       "         [ 0.3381, -0.3723],\n",
       "         [-0.1780,  0.0046],\n",
       "         [-1.9912, -1.1509],\n",
       "         [ 0.1407,  2.4141],\n",
       "         [-1.1666,  1.3247],\n",
       "         [ 0.6259,  0.0284],\n",
       "         [-1.5851, -1.2515]]),\n",
       " tensor([[-0.1978,  0.5817],\n",
       "         [ 0.0701,  0.1047],\n",
       "         [-0.0126,  0.0713],\n",
       "         [-0.5072, -0.2342],\n",
       "         [-0.3776,  0.2954],\n",
       "         [-0.5091,  0.4670],\n",
       "         [-0.3470,  0.4043],\n",
       "         [-0.5017,  0.1973]]))"
      ]
     },
     "execution_count": 31,
     "metadata": {},
     "output_type": "execute_result"
    }
   ],
   "source": [
    "# version 1:\n",
    "# One way to use the context is to take the average of the previous chars:\n",
    "xbow = torch.zeros((B,T,C)) # bow : bag of words\n",
    "for b in range(B):\n",
    "    for t in range(T):\n",
    "        xprev = x[b, :t+1] # (t,C)\n",
    "        xbow[b,t] = torch.mean(xprev, 0)\n",
    "\n",
    "x[0], xbow[0] # each line of the xbow[0] is the avg of the previous lines of x[0]"
   ]
  },
  {
   "cell_type": "code",
   "execution_count": null,
   "metadata": {},
   "outputs": [
    {
     "name": "stdout",
     "output_type": "stream",
     "text": [
      "tensor([[1., 0., 0.],\n",
      "        [1., 1., 0.],\n",
      "        [1., 1., 1.]])\n",
      "tensor([[8., 4.],\n",
      "        [9., 3.],\n",
      "        [3., 5.]])\n",
      "tensor([[ 8.,  4.],\n",
      "        [17.,  7.],\n",
      "        [20., 12.]])\n"
     ]
    }
   ],
   "source": [
    "# The trick is that we can do that very efficiently using matrix multiplication \n",
    "a = torch.tril(torch.ones(3,3))\n",
    "b = torch.randint(0,10,(3,2)).float()\n",
    "c = a @ b\n",
    "\n",
    "print(a)\n",
    "print(b)\n",
    "print(c)\n",
    "\n",
    "# for each line of c, we have the vertical sum of the previous lines of b "
   ]
  },
  {
   "cell_type": "code",
   "execution_count": null,
   "metadata": {},
   "outputs": [
    {
     "name": "stdout",
     "output_type": "stream",
     "text": [
      "tensor([[1.0000, 0.0000, 0.0000],\n",
      "        [0.5000, 0.5000, 0.0000],\n",
      "        [0.3333, 0.3333, 0.3333]])\n",
      "tensor([[4., 6.],\n",
      "        [7., 9.],\n",
      "        [2., 2.]])\n",
      "tensor([[4.0000, 6.0000],\n",
      "        [5.5000, 7.5000],\n",
      "        [4.3333, 5.6667]])\n"
     ]
    }
   ],
   "source": [
    "# to go from sum to avg, we simply normalize a\n",
    "a = a / torch.sum(a,1,keepdim=True)\n",
    "b = torch.randint(0,10,(3,2)).float()\n",
    "c = a @ b\n",
    "\n",
    "print(a)\n",
    "print(b)\n",
    "print(c) # it's the avg as we wanted"
   ]
  },
  {
   "cell_type": "code",
   "execution_count": null,
   "metadata": {},
   "outputs": [
    {
     "data": {
      "text/plain": [
       "True"
      ]
     },
     "execution_count": 39,
     "metadata": {},
     "output_type": "execute_result"
    }
   ],
   "source": [
    "# version 2:\n",
    "# Let's apply that to our bow \n",
    "wei = torch.tril(torch.ones(T,T)) # wei for weights\n",
    "wei = wei/wei.sum(1, keepdim=True)\n",
    "xbow2 = wei @ x # (T,T) @ (B,T,C) --> (B,T,C)\n",
    "# pytorch will see that there is a dim missing so (T,T) --> (B,T,T)\n",
    "# and it will perform the matrix mul for each batch in parallel\n",
    "# i.e for each batch, we multiply a (T,T) @ (T,C) just as above \n",
    "torch.allclose(xbow, xbow2) # they are equal "
   ]
  },
  {
   "cell_type": "code",
   "execution_count": 40,
   "metadata": {},
   "outputs": [
    {
     "data": {
      "text/plain": [
       "(tensor([[-0.1978,  0.5817],\n",
       "         [ 0.0701,  0.1047],\n",
       "         [-0.0126,  0.0713],\n",
       "         [-0.5072, -0.2342],\n",
       "         [-0.3776,  0.2954],\n",
       "         [-0.5091,  0.4670],\n",
       "         [-0.3470,  0.4043],\n",
       "         [-0.5017,  0.1973]]),\n",
       " tensor([[-0.1978,  0.5817],\n",
       "         [ 0.0701,  0.1047],\n",
       "         [-0.0126,  0.0713],\n",
       "         [-0.5072, -0.2342],\n",
       "         [-0.3776,  0.2954],\n",
       "         [-0.5091,  0.4670],\n",
       "         [-0.3470,  0.4043],\n",
       "         [-0.5017,  0.1973]]))"
      ]
     },
     "execution_count": 40,
     "metadata": {},
     "output_type": "execute_result"
    }
   ],
   "source": [
    "xbow[0], xbow2[0]"
   ]
  },
  {
   "cell_type": "code",
   "execution_count": null,
   "metadata": {},
   "outputs": [
    {
     "name": "stdout",
     "output_type": "stream",
     "text": [
      "tensor([[1., 0., 0., 0., 0., 0., 0., 0.],\n",
      "        [1., 1., 0., 0., 0., 0., 0., 0.],\n",
      "        [1., 1., 1., 0., 0., 0., 0., 0.],\n",
      "        [1., 1., 1., 1., 0., 0., 0., 0.],\n",
      "        [1., 1., 1., 1., 1., 0., 0., 0.],\n",
      "        [1., 1., 1., 1., 1., 1., 0., 0.],\n",
      "        [1., 1., 1., 1., 1., 1., 1., 0.],\n",
      "        [1., 1., 1., 1., 1., 1., 1., 1.]])\n",
      "tensor([[0., -inf, -inf, -inf, -inf, -inf, -inf, -inf],\n",
      "        [0., 0., -inf, -inf, -inf, -inf, -inf, -inf],\n",
      "        [0., 0., 0., -inf, -inf, -inf, -inf, -inf],\n",
      "        [0., 0., 0., 0., -inf, -inf, -inf, -inf],\n",
      "        [0., 0., 0., 0., 0., -inf, -inf, -inf],\n",
      "        [0., 0., 0., 0., 0., 0., -inf, -inf],\n",
      "        [0., 0., 0., 0., 0., 0., 0., -inf],\n",
      "        [0., 0., 0., 0., 0., 0., 0., 0.]])\n"
     ]
    },
    {
     "data": {
      "text/plain": [
       "tensor([[1.0000, 0.0000, 0.0000, 0.0000, 0.0000, 0.0000, 0.0000, 0.0000],\n",
       "        [0.5000, 0.5000, 0.0000, 0.0000, 0.0000, 0.0000, 0.0000, 0.0000],\n",
       "        [0.3333, 0.3333, 0.3333, 0.0000, 0.0000, 0.0000, 0.0000, 0.0000],\n",
       "        [0.2500, 0.2500, 0.2500, 0.2500, 0.0000, 0.0000, 0.0000, 0.0000],\n",
       "        [0.2000, 0.2000, 0.2000, 0.2000, 0.2000, 0.0000, 0.0000, 0.0000],\n",
       "        [0.1667, 0.1667, 0.1667, 0.1667, 0.1667, 0.1667, 0.0000, 0.0000],\n",
       "        [0.1429, 0.1429, 0.1429, 0.1429, 0.1429, 0.1429, 0.1429, 0.0000],\n",
       "        [0.1250, 0.1250, 0.1250, 0.1250, 0.1250, 0.1250, 0.1250, 0.1250]])"
      ]
     },
     "execution_count": 49,
     "metadata": {},
     "output_type": "execute_result"
    }
   ],
   "source": [
    "# we have a third version for the same thing using SOFTMAX\n",
    "tril = torch.tril(torch.ones(T,T))\n",
    "wei = torch.zeros((T,T))\n",
    "wei = wei.masked_fill(tril == 0, float('-inf')) # every element that is 0 in tril, replace it with -inf\n",
    "print(tril)\n",
    "print(wei) # wei is now a triangular sup matrix with only -inf\n",
    "\n",
    "# What happens if we take a softmax of that ? \n",
    "# it will normalize it with -inf --> 0 and the rest is uniform (only zeros) so they will get the same weight\n",
    "# remember, we exponentiate and divide by their exp sum\n",
    "F.softmax(wei, dim=-1) # same as before as excpected"
   ]
  },
  {
   "cell_type": "code",
   "execution_count": null,
   "metadata": {},
   "outputs": [
    {
     "data": {
      "text/plain": [
       "True"
      ]
     },
     "execution_count": 56,
     "metadata": {},
     "output_type": "execute_result"
    }
   ],
   "source": [
    "# version 3\n",
    "tril = torch.tril(torch.ones(T,T))\n",
    "wei = torch.zeros((T,T))\n",
    "wei = wei.masked_fill(tril == 0, float('-inf'))\n",
    "wei = F.softmax(wei, dim=1)\n",
    "xbow3 = wei @ x\n",
    "torch.allclose(xbow, xbow3)\n",
    "\n",
    "# it's better because : \n",
    "# The weights tell us how much tokens from the past do we wan't to agregate (avg)\n",
    "# adding the -inf make sure that we are not using the future \n",
    "# then we aggregate using the mat mul\n",
    "# here, we set the initial weights at 0, but the idea is that they will be data dependant to give more or less important to certain terms (affinities)\n",
    "# it will be learned by the network\n",
    "# and the aggregation will be weighted depending on these affinities"
   ]
  },
  {
   "cell_type": "markdown",
   "metadata": {},
   "source": [
    "### first self attention head:\n",
    "\n",
    "Of course, we don't wan't the weights to be uniform. Because different tokens will find different tokens more interesting.\n",
    "\n",
    "ex: if i'm a vowel, i wan't to know consonantes in my past and i wan't this information to flow to me\n",
    "\n",
    "i.e I wan't info about the past in a data dependant way\n",
    "\n",
    "This is the problem SELF ATTENTION solves"
   ]
  },
  {
   "cell_type": "markdown",
   "metadata": {},
   "source": [
    "### The attention mechanism\n",
    "\n",
    "every single token at each position, will emit two vectores : a query and a key\n",
    "- the query is a vector that represents the token's interest in other tokens (i.e what do i want to know about the past)\n",
    "- the key is a vector that represents the token's importance to other tokens (i.e what do i contain or have to offer)\n",
    "\n",
    "The way we get affinities between tokens is by taking the dot product between the query and the key of each token.\n",
    "- the dot product is a measure of similarity between two vectors. The higher the dot product, the more similar the two vectors are.\n",
    "- the dot product is a measure of how much one vector is interested in the other vector. The higher the dot product, the more interested the first vector is in the second vector.\n",
    "\n",
    "The value is a vector that represents the token's content. The value is what the token contains and what it has to offer to other tokens."
   ]
  },
  {
   "cell_type": "code",
   "execution_count": null,
   "metadata": {},
   "outputs": [
    {
     "name": "stdout",
     "output_type": "stream",
     "text": [
      "wei of first batch after dot products \n",
      " tensor([[-0.8966, -1.8894,  3.5351,  0.2947, -1.5164,  2.0977, -1.3926,  2.0678],\n",
      "        [ 0.6637,  0.9359, -0.9747,  0.2244,  0.9913, -1.9044,  0.5182, -0.1868],\n",
      "        [ 1.8779, -0.3505,  0.3955,  0.7281,  0.0439,  0.3371,  1.1918,  0.5955],\n",
      "        [ 1.4644,  1.1218,  1.0131, -0.7729, -0.4541,  0.5597,  0.9235,  2.6931],\n",
      "        [ 0.6715, -2.5817, -1.0222,  0.1735, -0.9825,  0.0513,  0.7877, -0.3711],\n",
      "        [ 1.0661, -0.2105,  1.0341,  0.1928,  0.9869, -0.0388,  2.1724, -0.8251],\n",
      "        [ 1.7248,  0.6385, -0.8306,  0.5162, -1.1670,  0.2840, -0.0848,  0.6850],\n",
      "        [ 0.8194, -0.4705,  0.2894, -0.1186,  0.0915, -1.5042,  1.3332, -0.3514]],\n",
      "       grad_fn=<SelectBackward0>)\n",
      "wei wei of first batch after masking \n",
      " tensor([[-0.8966,    -inf,    -inf,    -inf,    -inf,    -inf,    -inf,    -inf],\n",
      "        [ 0.6637,  0.9359,    -inf,    -inf,    -inf,    -inf,    -inf,    -inf],\n",
      "        [ 1.8779, -0.3505,  0.3955,    -inf,    -inf,    -inf,    -inf,    -inf],\n",
      "        [ 1.4644,  1.1218,  1.0131, -0.7729,    -inf,    -inf,    -inf,    -inf],\n",
      "        [ 0.6715, -2.5817, -1.0222,  0.1735, -0.9825,    -inf,    -inf,    -inf],\n",
      "        [ 1.0661, -0.2105,  1.0341,  0.1928,  0.9869, -0.0388,    -inf,    -inf],\n",
      "        [ 1.7248,  0.6385, -0.8306,  0.5162, -1.1670,  0.2840, -0.0848,    -inf],\n",
      "        [ 0.8194, -0.4705,  0.2894, -0.1186,  0.0915, -1.5042,  1.3332, -0.3514]],\n",
      "       grad_fn=<SelectBackward0>)\n",
      "final wei of first batch after softmax \n",
      " tensor([[1.0000, 0.0000, 0.0000, 0.0000, 0.0000, 0.0000, 0.0000, 0.0000],\n",
      "        [0.4324, 0.5676, 0.0000, 0.0000, 0.0000, 0.0000, 0.0000, 0.0000],\n",
      "        [0.7492, 0.0807, 0.1701, 0.0000, 0.0000, 0.0000, 0.0000, 0.0000],\n",
      "        [0.4076, 0.2893, 0.2596, 0.0435, 0.0000, 0.0000, 0.0000, 0.0000],\n",
      "        [0.4947, 0.0191, 0.0909, 0.3006, 0.0946, 0.0000, 0.0000, 0.0000],\n",
      "        [0.2551, 0.0712, 0.2471, 0.1065, 0.2357, 0.0845, 0.0000, 0.0000],\n",
      "        [0.4609, 0.1555, 0.0358, 0.1376, 0.0256, 0.1091, 0.0755, 0.0000],\n",
      "        [0.2076, 0.0571, 0.1222, 0.0812, 0.1002, 0.0203, 0.3470, 0.0644]],\n",
      "       grad_fn=<SelectBackward0>)\n",
      "we then mutliply it with x to get the aggregations\n",
      "here is the first batch of x: \n",
      " tensor([[-0.1010, -0.2612, -0.1948,  1.0098, -0.4900, -0.9857,  0.1809, -0.9106,\n",
      "          0.0782,  1.5230,  0.3687,  0.7256,  1.5217,  0.6765, -1.8076, -0.1223,\n",
      "          2.1213,  0.5612,  0.0278, -1.7261, -0.1154,  0.2649, -0.9256,  0.4499,\n",
      "          0.1686,  1.5521, -1.7413, -1.2339, -0.0848,  1.8655,  0.5690,  2.1750],\n",
      "        [ 0.6834, -0.8417, -2.0082,  0.7027,  0.3257, -1.1087,  0.3741, -0.7835,\n",
      "         -0.7505,  1.3211, -1.0379, -0.9951, -1.6372, -0.4251,  2.3210,  0.7082,\n",
      "          0.6429, -1.5179, -0.9892,  1.0389,  0.7026,  0.4828, -0.2143, -0.0968,\n",
      "          2.0961,  0.2603,  0.3511, -0.8569, -0.6474, -1.0425,  1.5097, -0.8762],\n",
      "        [ 0.8820,  1.0206,  0.6658, -0.4542, -0.5662,  0.8228,  0.4080,  0.3687,\n",
      "          0.2826, -0.6978, -0.0391,  0.8164,  0.0503,  0.8345,  2.3428, -1.8868,\n",
      "          0.3362, -0.0903, -2.3548,  0.7022,  0.9531,  2.3642, -0.4329,  1.5142,\n",
      "          1.4483, -0.7070, -0.7463,  0.8211,  0.9391,  0.6966, -0.4726,  0.7172],\n",
      "        [-1.2105, -0.3363,  0.9722,  0.6156,  1.4097, -1.5613, -0.8149,  0.4658,\n",
      "          0.8091, -0.4354,  0.4811,  1.4906, -0.4979, -0.1492, -0.2883, -1.0509,\n",
      "         -0.0308,  0.7951,  0.0937, -0.8429,  0.9688, -1.0376, -0.6772, -1.5596,\n",
      "         -0.8673,  0.8460, -0.7274,  1.0433,  1.7785,  0.8549, -0.0857,  0.7968],\n",
      "        [ 0.6201,  0.5882,  0.1845,  0.3461, -1.0035, -0.6694, -0.6463,  0.9634,\n",
      "          1.3268, -0.8164, -0.1582, -0.0032, -1.4728,  2.1947,  0.7069, -0.7181,\n",
      "          1.0385, -0.3312,  0.1123,  0.2982, -1.0031,  0.3696, -1.4909,  0.1186,\n",
      "         -1.1636, -1.5626,  0.9021, -0.1745, -0.1825, -1.3933, -0.5540,  0.7591],\n",
      "        [-0.2944, -0.2186, -0.3982, -1.1886,  0.6004, -1.2457, -0.2216, -0.8599,\n",
      "          0.1098,  0.0827,  0.5110, -0.6585,  0.2880, -0.9356,  0.2436,  0.6323,\n",
      "         -1.7388,  1.3320, -1.0683,  2.3691,  0.0527,  0.1831,  0.8581,  1.2504,\n",
      "         -1.1556, -1.0258,  0.8060,  0.2066, -0.5665, -1.4694, -0.0567,  2.3699],\n",
      "        [-0.4429, -0.0280,  1.0854,  0.9859, -0.1795, -0.5385, -0.3478, -0.1239,\n",
      "         -0.9395,  1.5652, -0.2717,  1.1983, -0.5370,  2.0097, -0.1296, -0.6998,\n",
      "         -1.0594, -1.1049, -0.4249, -0.0341,  1.2239, -0.4451,  0.5865,  1.3642,\n",
      "          0.4727, -0.6266, -0.1327, -1.1737,  1.3662,  2.1499, -0.6525,  0.2366],\n",
      "        [ 0.0819, -0.6771,  1.1723, -0.4311,  0.6413,  0.2738, -0.5472,  0.6574,\n",
      "         -1.0153,  0.9476,  0.7489,  0.2579, -2.0442,  0.3890,  1.2853,  0.2640,\n",
      "          0.0070,  0.7431, -0.5240,  0.8559,  1.1913,  0.7507, -0.4956,  0.3483,\n",
      "         -0.4700,  0.8139,  0.3560, -0.2931, -1.6016,  0.0607, -0.3003,  1.5730]])\n",
      "the output for the first batch: \n",
      " tensor([[-1.0099e-01, -2.6124e-01, -1.9475e-01,  1.0098e+00, -4.9002e-01,\n",
      "         -9.8572e-01,  1.8091e-01, -9.1061e-01,  7.8179e-02,  1.5230e+00,\n",
      "          3.6871e-01,  7.2558e-01,  1.5217e+00,  6.7652e-01, -1.8076e+00,\n",
      "         -1.2228e-01,  2.1213e+00,  5.6124e-01,  2.7836e-02, -1.7261e+00,\n",
      "         -1.1541e-01,  2.6487e-01, -9.2565e-01,  4.4992e-01,  1.6862e-01,\n",
      "          1.5521e+00, -1.7413e+00, -1.2339e+00, -8.4778e-02,  1.8655e+00,\n",
      "          5.6901e-01,  2.1750e+00],\n",
      "        [ 3.4427e-01, -5.9073e-01, -1.2241e+00,  8.3552e-01, -2.7002e-02,\n",
      "         -1.0555e+00,  2.9058e-01, -8.3846e-01, -3.9219e-01,  1.4084e+00,\n",
      "         -4.2971e-01, -2.5112e-01, -2.7133e-01,  5.1215e-02,  5.3584e-01,\n",
      "          3.4911e-01,  1.2821e+00, -6.1894e-01, -5.4944e-01, -1.5665e-01,\n",
      "          3.4889e-01,  3.8858e-01, -5.2187e-01,  1.3962e-01,  1.2627e+00,\n",
      "          8.1885e-01, -5.5364e-01, -1.0199e+00, -4.0412e-01,  2.1484e-01,\n",
      "          1.1030e+00,  4.4307e-01],\n",
      "        [ 1.2953e-01, -8.9990e-02, -1.9465e-01,  7.3597e-01, -4.3716e-01,\n",
      "         -6.8795e-01,  2.3513e-01, -6.8271e-01,  4.6097e-02,  1.1289e+00,\n",
      "          1.8584e-01,  6.0221e-01,  1.0165e+00,  6.1451e-01, -7.6839e-01,\n",
      "         -3.5548e-01,  1.6983e+00,  2.8264e-01, -4.5959e-01, -1.0899e+00,\n",
      "          1.3237e-01,  6.3962e-01, -7.8442e-01,  5.8689e-01,  5.4185e-01,\n",
      "          1.0635e+00, -1.4032e+00, -8.5387e-01,  4.4023e-02,  1.4320e+00,\n",
      "          4.6770e-01,  1.6808e+00],\n",
      "        [ 3.3283e-01, -9.9754e-02, -4.4531e-01,  5.2381e-01, -1.9111e-01,\n",
      "         -5.7693e-01,  2.5242e-01, -4.8191e-01, -7.6736e-02,  8.0297e-01,\n",
      "         -1.3924e-01,  2.8456e-01,  1.3793e-01,  3.6284e-01,  5.3034e-01,\n",
      "         -3.8038e-01,  1.1366e+00, -1.9930e-01, -8.8200e-01, -2.5737e-01,\n",
      "          4.4577e-01,  8.1615e-01, -5.8111e-01,  4.8055e-01,  1.0134e+00,\n",
      "          5.6125e-01, -8.3351e-01, -4.9236e-01,  9.9249e-02,  6.7669e-01,\n",
      "          5.4236e-01,  8.5379e-01],\n",
      "        [-2.6194e-01, -9.7954e-02,  2.3555e-01,  6.8951e-01,  4.1171e-02,\n",
      "         -9.6670e-01, -1.7239e-01, -2.0072e-01,  4.1882e-01,  5.0710e-01,\n",
      "          2.8866e-01,  8.6197e-01,  4.3701e-01,  5.6524e-01, -6.5657e-01,\n",
      "         -6.0241e-01,  1.1813e+00,  4.4809e-01, -1.8047e-01, -9.9533e-01,\n",
      "          2.3934e-01,  7.8282e-02, -8.4603e-01, -9.9216e-02, -1.1563e-01,\n",
      "          8.1498e-01, -1.0559e+00, -2.5500e-01,  5.4847e-01,  1.0914e+00,\n",
      "          1.8918e-01,  1.4358e+00],\n",
      "        [ 2.3308e-01,  2.0993e-01,  8.5297e-02,  2.4210e-01, -2.7730e-01,\n",
      "         -5.5639e-01, -8.4295e-02,  7.0388e-03,  4.4451e-01,  7.8344e-02,\n",
      "          6.7672e-02,  4.1834e-01, -9.1715e-02,  7.7075e-01,  4.3934e-01,\n",
      "         -6.7468e-01,  7.6447e-01,  1.3201e-01, -6.9887e-01, -1.2220e-02,\n",
      "          1.2727e-01,  6.7804e-01, -7.0931e-01,  4.4945e-01,  8.5742e-02,\n",
      "         -1.2504e-01, -4.0034e-01, -8.5427e-02,  2.6287e-01,  2.1231e-01,\n",
      "         -8.6405e-03,  1.1337e+00],\n",
      "        [-1.2498e-01, -2.7199e-01, -2.0129e-01,  5.9674e-01,  2.4878e-02,\n",
      "         -1.0059e+00, -2.2933e-02, -5.4280e-01,  1.5797e-02,  9.2878e-01,\n",
      "          1.0454e-01,  4.3251e-01,  3.3324e-01,  3.6070e-01, -3.9307e-01,\n",
      "         -1.6056e-01,  8.4235e-01,  1.8228e-01, -3.5818e-01, -4.6126e-01,\n",
      "          2.9600e-01,  1.3484e-01, -4.6888e-01,  2.7429e-01,  2.1603e-01,\n",
      "          6.4780e-01, -7.7376e-01, -5.9948e-01,  1.7524e-01,  8.0650e-01,\n",
      "          3.9876e-01,  1.2974e+00],\n",
      "        [-6.4713e-02, -3.7197e-03,  4.6760e-01,  5.6913e-01, -1.4710e-01,\n",
      "         -5.5587e-01, -1.8261e-01, -7.2490e-02, -1.8249e-01,  7.9488e-01,\n",
      "          9.7826e-06,  7.3323e-01, -2.7169e-01,  1.1292e+00,  1.3383e-01,\n",
      "         -5.8574e-01,  2.1723e-01, -2.5832e-01, -5.2243e-01, -1.6028e-01,\n",
      "          6.1320e-01,  2.2178e-01, -2.7268e-01,  6.7919e-01,  2.5488e-01,\n",
      "         -2.3111e-02, -4.0794e-01, -5.5939e-01,  5.4575e-01,  1.0625e+00,\n",
      "         -1.6272e-01,  8.6132e-01]], grad_fn=<SelectBackward0>)\n"
     ]
    },
    {
     "data": {
      "text/plain": [
       "torch.Size([4, 8, 32])"
      ]
     },
     "execution_count": 76,
     "metadata": {},
     "output_type": "execute_result"
    }
   ],
   "source": [
    "# version 4: self-attention\n",
    "B,T,C = 4,8,32\n",
    "x = torch.randn(B,T,C)\n",
    "\n",
    "# let's see a single Head perform self-attention\n",
    "head_size = 16 \n",
    "key = nn.Linear(C, head_size, bias=False)\n",
    "query = nn.Linear(C, head_size, bias=False)\n",
    "value = nn.Linear(C, head_size, bias=False)\n",
    "k = key(x)   # (B,T,16)\n",
    "q = query(x) # (B,T,16)\n",
    "# at this point, no communication happened between the tokens\n",
    "# now it does:\n",
    "wei = q @ k.transpose(-2,-1) # -2 is T, -1 is head_size, (B,T,16) @ (B,16,T) --> (B,T,T)\n",
    "print(f\"wei of first batch after dot products \\n {wei[0]}\")\n",
    "\n",
    "tril = torch.tril(torch.ones(T,T))\n",
    "wei = wei.masked_fill(tril == 0, float('-inf'))\n",
    "print(f\"wei wei of first batch after masking \\n {wei[0]}\")\n",
    "wei = F.softmax(wei, dim=-1)\n",
    "print(f\"final wei of first batch after softmax \\n {wei[0]}\")\n",
    "print(\"we then mutliply it with x to get the aggregations\")\n",
    "print(f\"here is the first batch of x: \\n {x[0]}\")\n",
    "\n",
    "v = value(x)\n",
    "out = wei @ x\n",
    "print(f\"the output for the first batch: \\n {out[0]}\")\n",
    "out.shape\n",
    "# when the affinities are all 0, the aggregation is simply an average"
   ]
  },
  {
   "cell_type": "code",
   "execution_count": null,
   "metadata": {},
   "outputs": [],
   "source": []
  },
  {
   "cell_type": "code",
   "execution_count": null,
   "metadata": {},
   "outputs": [],
   "source": []
  }
 ],
 "metadata": {
  "kernelspec": {
   "display_name": "Python 3",
   "language": "python",
   "name": "python3"
  },
  "language_info": {
   "codemirror_mode": {
    "name": "ipython",
    "version": 3
   },
   "file_extension": ".py",
   "mimetype": "text/x-python",
   "name": "python",
   "nbconvert_exporter": "python",
   "pygments_lexer": "ipython3",
   "version": "3.12.0"
  }
 },
 "nbformat": 4,
 "nbformat_minor": 2
}
