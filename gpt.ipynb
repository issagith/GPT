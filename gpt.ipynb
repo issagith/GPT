{
 "cells": [
  {
   "cell_type": "code",
   "execution_count": 1,
   "metadata": {},
   "outputs": [
    {
     "data": {
      "text/plain": [
       "<torch._C.Generator at 0x1fdccd60810>"
      ]
     },
     "execution_count": 1,
     "metadata": {},
     "output_type": "execute_result"
    }
   ],
   "source": [
    "import torch\n",
    "import torch.nn as nn\n",
    "from torch.nn import functional as F\n",
    "\n",
    "torch.manual_seed(1337)"
   ]
  },
  {
   "cell_type": "code",
   "execution_count": 2,
   "metadata": {},
   "outputs": [],
   "source": [
    "with open('input.txt', 'r', encoding='utf-8') as f:\n",
    "    text = f.read()"
   ]
  },
  {
   "cell_type": "code",
   "execution_count": 3,
   "metadata": {},
   "outputs": [
    {
     "name": "stdout",
     "output_type": "stream",
     "text": [
      "1115394\n"
     ]
    }
   ],
   "source": [
    "print(len(text))"
   ]
  },
  {
   "cell_type": "code",
   "execution_count": 4,
   "metadata": {},
   "outputs": [
    {
     "name": "stdout",
     "output_type": "stream",
     "text": [
      "First Citizen:\n",
      "Before we proceed any further, hear me speak.\n",
      "\n",
      "All:\n",
      "Speak, speak.\n",
      "\n",
      "First Citizen:\n",
      "You are all resolved rather to die than to famish?\n",
      "\n",
      "All:\n",
      "Resolved. resolved.\n",
      "\n",
      "First Citizen:\n",
      "First, you know Caius Marcius is chief enemy to the people.\n",
      "\n",
      "All:\n",
      "We know't, we know't.\n",
      "\n",
      "First Citizen:\n",
      "Let us kill him, and we'll have corn at our own price.\n",
      "Is't a verdict?\n",
      "\n",
      "All:\n",
      "No more talking on't; let it be done: away, away!\n",
      "\n",
      "Second Citizen:\n",
      "One word, good citizens.\n",
      "\n",
      "First Citizen:\n",
      "We are accounted poor citizens, the patricians good.\n",
      "What authority surfeits on would relieve us: if they\n",
      "would yield us but the superfluity, while it were\n",
      "wholesome, we might guess they relieved us humanely;\n",
      "but they think we are too dear: the leanness that\n",
      "afflicts us, the object of our misery, is as an\n",
      "inventory to particularise their abundance; our\n",
      "sufferance is a gain to them Let us revenge this with\n",
      "our pikes, ere we become rakes: for the gods know I\n",
      "speak this in hunger for bread, not in thirst for revenge.\n",
      "\n",
      "\n"
     ]
    }
   ],
   "source": [
    "print(text[:1000])"
   ]
  },
  {
   "cell_type": "code",
   "execution_count": 5,
   "metadata": {},
   "outputs": [
    {
     "name": "stdout",
     "output_type": "stream",
     "text": [
      "\n",
      " !$&',-.3:;?ABCDEFGHIJKLMNOPQRSTUVWXYZabcdefghijklmnopqrstuvwxyz\n",
      "65\n"
     ]
    }
   ],
   "source": [
    "chars = sorted(list(set(text))) # all the unique chars in this text\n",
    "vocab_size = len(chars)\n",
    "print(''.join(chars))\n",
    "print(vocab_size)"
   ]
  },
  {
   "cell_type": "code",
   "execution_count": 6,
   "metadata": {},
   "outputs": [
    {
     "name": "stdout",
     "output_type": "stream",
     "text": [
      "[46, 43, 50, 50, 53, 1, 61, 53, 56, 50, 42, 1, 2]\n",
      "hello world !\n"
     ]
    }
   ],
   "source": [
    "# Tokenization \n",
    "# We simply create a mapping from char to int \n",
    "stoi = { ch:i for i,ch in enumerate(chars)}\n",
    "itos = { i:ch for i,ch in enumerate(chars)}\n",
    "\n",
    "# Then, a way to encode and decode our chars/words/sentences\n",
    "encode = lambda s: [stoi[ch] for ch in s] # takes a string, output a list of integers\n",
    "decode = lambda l: ''.join([itos[i] for i in l]) # takes a list of integers, output a string\n",
    "\n",
    "print(encode(\"hello world !\"))\n",
    "print(decode(encode(\"hello world !\")))"
   ]
  },
  {
   "cell_type": "code",
   "execution_count": 7,
   "metadata": {},
   "outputs": [
    {
     "name": "stdout",
     "output_type": "stream",
     "text": [
      "torch.Size([1115394]) torch.int64\n",
      "tensor([18, 47, 56, 57, 58,  1, 15, 47, 58, 47])\n"
     ]
    }
   ],
   "source": [
    "# let's now tokenize the whole dataset\n",
    "data = torch.tensor(encode(text), dtype=torch.long)\n",
    "print(data.shape, data.dtype)\n",
    "print(data[:10])"
   ]
  },
  {
   "cell_type": "code",
   "execution_count": 8,
   "metadata": {},
   "outputs": [
    {
     "data": {
      "text/plain": [
       "(1003854, 111540)"
      ]
     },
     "execution_count": 8,
     "metadata": {},
     "output_type": "execute_result"
    }
   ],
   "source": [
    "# Train/Test split\n",
    "\n",
    "n = int(0.9*len(data))\n",
    "train_data = data[:n]\n",
    "test_data = data[n:]\n",
    "\n",
    "len(train_data), len(test_data)"
   ]
  },
  {
   "cell_type": "code",
   "execution_count": 9,
   "metadata": {},
   "outputs": [
    {
     "data": {
      "text/plain": [
       "tensor([18, 47, 56, 57, 58,  1, 15, 47, 58])"
      ]
     },
     "execution_count": 9,
     "metadata": {},
     "output_type": "execute_result"
    }
   ],
   "source": [
    "block_size = 8 # context window of chars\n",
    "train_data[:block_size+1]"
   ]
  },
  {
   "cell_type": "code",
   "execution_count": 10,
   "metadata": {},
   "outputs": [
    {
     "name": "stdout",
     "output_type": "stream",
     "text": [
      "input tensor([18]) target: 47\n",
      "input tensor([18, 47]) target: 56\n",
      "input tensor([18, 47, 56]) target: 57\n",
      "input tensor([18, 47, 56, 57]) target: 58\n",
      "input tensor([18, 47, 56, 57, 58]) target: 1\n",
      "input tensor([18, 47, 56, 57, 58,  1]) target: 15\n",
      "input tensor([18, 47, 56, 57, 58,  1, 15]) target: 47\n",
      "input tensor([18, 47, 56, 57, 58,  1, 15, 47]) target: 58\n"
     ]
    }
   ],
   "source": [
    "# Slowly creating/understanding our training dataset\n",
    "x = train_data[:block_size]\n",
    "y = train_data[1:block_size+1]\n",
    "for t in range(block_size):\n",
    "    context = x[:t+1]\n",
    "    target = y[t]\n",
    "    print(f\"input {context} target: {target}\")\n",
    "\n",
    "# we wan't the model to learn to generate from one char all the way to block_size chars"
   ]
  },
  {
   "cell_type": "code",
   "execution_count": 11,
   "metadata": {},
   "outputs": [
    {
     "name": "stdout",
     "output_type": "stream",
     "text": [
      "inputs:\n",
      "torch.Size([4, 8])\n",
      "tensor([[24, 43, 58,  5, 57,  1, 46, 43],\n",
      "        [44, 53, 56,  1, 58, 46, 39, 58],\n",
      "        [52, 58,  1, 58, 46, 39, 58,  1],\n",
      "        [25, 17, 27, 10,  0, 21,  1, 54]])\n",
      "targets:\n",
      "torch.Size([4, 8])\n",
      "tensor([[43, 58,  5, 57,  1, 46, 43, 39],\n",
      "        [53, 56,  1, 58, 46, 39, 58,  1],\n",
      "        [58,  1, 58, 46, 39, 58,  1, 46],\n",
      "        [17, 27, 10,  0, 21,  1, 54, 39]])\n",
      "--------\n",
      "input [24] target: 43\n",
      "input [24, 43] target: 58\n",
      "input [24, 43, 58] target: 5\n",
      "input [24, 43, 58, 5] target: 57\n",
      "input [24, 43, 58, 5, 57] target: 1\n",
      "input [24, 43, 58, 5, 57, 1] target: 46\n",
      "input [24, 43, 58, 5, 57, 1, 46] target: 43\n",
      "input [24, 43, 58, 5, 57, 1, 46, 43] target: 39\n",
      "input [44] target: 53\n",
      "input [44, 53] target: 56\n",
      "input [44, 53, 56] target: 1\n",
      "input [44, 53, 56, 1] target: 58\n",
      "input [44, 53, 56, 1, 58] target: 46\n",
      "input [44, 53, 56, 1, 58, 46] target: 39\n",
      "input [44, 53, 56, 1, 58, 46, 39] target: 58\n",
      "input [44, 53, 56, 1, 58, 46, 39, 58] target: 1\n",
      "input [52] target: 58\n",
      "input [52, 58] target: 1\n",
      "input [52, 58, 1] target: 58\n",
      "input [52, 58, 1, 58] target: 46\n",
      "input [52, 58, 1, 58, 46] target: 39\n",
      "input [52, 58, 1, 58, 46, 39] target: 58\n",
      "input [52, 58, 1, 58, 46, 39, 58] target: 1\n",
      "input [52, 58, 1, 58, 46, 39, 58, 1] target: 46\n",
      "input [25] target: 17\n",
      "input [25, 17] target: 27\n",
      "input [25, 17, 27] target: 10\n",
      "input [25, 17, 27, 10] target: 0\n",
      "input [25, 17, 27, 10, 0] target: 21\n",
      "input [25, 17, 27, 10, 0, 21] target: 1\n",
      "input [25, 17, 27, 10, 0, 21, 1] target: 54\n",
      "input [25, 17, 27, 10, 0, 21, 1, 54] target: 39\n"
     ]
    }
   ],
   "source": [
    "# let's create the batches \n",
    "\n",
    "batch_size = 4 # number of independant sequences processed in parallel\n",
    "block_size = 8 # maximum context length for prediction\n",
    "\n",
    "def get_batch(split):\n",
    "    if split == 'train':\n",
    "        data = train_data\n",
    "    else:\n",
    "        data = test_data\n",
    "    \n",
    "    ix = torch.randint(len(data) - block_size, (batch_size,)) # get batch_size random idx in the dataset\n",
    "    x = torch.stack([data[i:i+block_size] for i in ix]) # for each ix, we get the block starting at this window and we stack them all\n",
    "    y = torch.stack([data[i+1:i+block_size+1] for i in ix]) # getting the targets by shifting the window by one\n",
    "    return x,y\n",
    "\n",
    "xb, yb = get_batch(\"train\")\n",
    "print('inputs:')\n",
    "print(xb.shape)\n",
    "print(xb)\n",
    "print('targets:')\n",
    "print(yb.shape)\n",
    "print(yb)\n",
    "\n",
    "print('--------')\n",
    "\n",
    "for b in range(batch_size):\n",
    "    for t in range(block_size):\n",
    "        context = xb[b, :t+1]\n",
    "        target = yb[b, t]\n",
    "        print(f'input {context.tolist()} target: {target}')"
   ]
  },
  {
   "cell_type": "code",
   "execution_count": 12,
   "metadata": {},
   "outputs": [
    {
     "name": "stdout",
     "output_type": "stream",
     "text": [
      "torch.Size([32, 65])\n",
      "tensor(5.0364, grad_fn=<NllLossBackward0>)\n"
     ]
    }
   ],
   "source": [
    "# Before implementing a transformer, we start with a bigram model\n",
    "\n",
    "# Note : \n",
    "# B --> batch, T --> time, C --> channel\n",
    "# time is for the context (words come sequentially)\n",
    "# channel is the embedding dim (vocab_size here)\n",
    "class BigramLanguageModel(nn.Module):\n",
    "    def __init__(self, vocab_size):\n",
    "        super().__init__()\n",
    "        # each token directly reads off the logits for the next token from a lookup table\n",
    "        self.token_embedding_table = nn.Embedding(vocab_size, vocab_size) \n",
    "\n",
    "    def forward(self, idx, targets=None):\n",
    "        #idx and targets are both (B,T) tensor of ints\n",
    "        logits = self.token_embedding_table(idx) #(B,T,C)\n",
    "\n",
    "        if targets is None:\n",
    "            loss = None\n",
    "        else:\n",
    "            # PB : the cross entropy loss wan'ts a (B,C,T)\n",
    "            # Fix : we reshape the logits\n",
    "            B,T,C = logits.shape # unpacking the shape\n",
    "            logits = logits.view(B*T,C)\n",
    "            targets = targets.view(B*T) # it must only be a 1D vector\n",
    "            loss = F.cross_entropy(logits, targets)\n",
    "        return logits, loss \n",
    "    \n",
    "    def generate(self, idx, max_new_tokens):\n",
    "        # for now this generate fct is overkill \n",
    "        # We are feeding it with all the context but it's useless as its a bigram model \n",
    "        # Still, we implement it like this so that it will be unchanged for transformers\n",
    "\n",
    "        # idx is (B,T) array of indices in the current context\n",
    "        for _ in range(max_new_tokens):\n",
    "            logits, loss = self(idx) # get the preds\n",
    "            # focus only on the last time step (i.e last char)\n",
    "            logits = logits[:, -1, :] # becomes (B,C) bc it's only one embedded char for each sequence in the batch\n",
    "            probs = F.softmax(logits, dim=1) # (B,C)\n",
    "            # sample from the distribution\n",
    "            idx_next = torch.multinomial(probs, num_samples=1) # (B,1) choose one for each sequence in the batch\n",
    "            # append sampled index to the running sequence\n",
    "            idx = torch.cat((idx, idx_next), dim=1) # (B, T+1)\n",
    "        return idx\n",
    "    \n",
    "m = BigramLanguageModel(vocab_size)\n",
    "out, loss = m(xb, yb)\n",
    "print(out.shape) # (B,T,C) = (batch_size, block_size, vocab_size)\n",
    "print(loss)"
   ]
  },
  {
   "cell_type": "code",
   "execution_count": 13,
   "metadata": {},
   "outputs": [
    {
     "name": "stdout",
     "output_type": "stream",
     "text": [
      "torch.Size([4, 8])\n",
      "4 8 65\n",
      "torch.Size([32, 65])\n",
      "tensor([-0.3173, -2.2339, -1.4059,  1.2754,  0.3269,  0.4072,  0.9861, -1.3452,\n",
      "        -0.0214, -0.0606,  0.8196,  0.9585, -1.5620, -0.9595,  1.8561,  0.1731,\n",
      "        -0.6004, -0.1511, -0.2633, -0.2980, -0.6959,  0.8446,  2.3401,  0.5713,\n",
      "         0.7937, -2.2403, -0.0907,  0.3705, -0.1498,  0.3753, -0.2322, -0.6855,\n",
      "        -1.2521,  0.8792, -0.9479, -0.9450, -1.6462, -1.6728, -0.7227, -0.1755,\n",
      "        -0.2187, -1.6041,  0.9001,  0.4649, -0.1040,  1.0264,  1.6527, -0.1772,\n",
      "        -0.3859,  0.9534, -1.7580, -0.1748,  0.2244, -0.1926,  0.2210,  0.7663,\n",
      "        -0.5540, -0.2526,  0.2016, -0.3885,  1.3035,  0.6635,  0.2673, -0.0410,\n",
      "         1.0837], grad_fn=<SelectBackward0>)\n",
      "tensor([-0.3173, -2.2339, -1.4059,  1.2754,  0.3269,  0.4072,  0.9861, -1.3452,\n",
      "        -0.0214, -0.0606,  0.8196,  0.9585, -1.5620, -0.9595,  1.8561,  0.1731,\n",
      "        -0.6004, -0.1511, -0.2633, -0.2980, -0.6959,  0.8446,  2.3401,  0.5713,\n",
      "         0.7937, -2.2403, -0.0907,  0.3705, -0.1498,  0.3753, -0.2322, -0.6855,\n",
      "        -1.2521,  0.8792, -0.9479, -0.9450, -1.6462, -1.6728, -0.7227, -0.1755,\n",
      "        -0.2187, -1.6041,  0.9001,  0.4649, -0.1040,  1.0264,  1.6527, -0.1772,\n",
      "        -0.3859,  0.9534, -1.7580, -0.1748,  0.2244, -0.1926,  0.2210,  0.7663,\n",
      "        -0.5540, -0.2526,  0.2016, -0.3885,  1.3035,  0.6635,  0.2673, -0.0410,\n",
      "         1.0837], grad_fn=<SelectBackward0>)\n"
     ]
    }
   ],
   "source": [
    "# visualize the reshape of logits and targets : \n",
    "# making sure the dimensions are right \n",
    "print(xb.shape) # (B,T) = (4,8)\n",
    "logits = m.token_embedding_table(xb) # (B,T,C) = (4,8,65)\n",
    "B,T,C = logits.shape\n",
    "print(B,T,C)\n",
    "print(logits.view(B*T,C).shape) # (BT, C) = (32,65)\n",
    "\n",
    "# from a list of matrices of embedded char sequences\n",
    "# to a matrice of embedded char sequences \n",
    "# i.e we concatenate \n",
    "print(logits[1][0]) # second matrice, first embedding\n",
    "print(logits.view(B*T,C)[8]) # embedding on row 9 i.e same  \n",
    "# it's really a concatenation or stacking of the batches so that we can use the cross entropy loss\n"
   ]
  },
  {
   "cell_type": "code",
   "execution_count": 14,
   "metadata": {},
   "outputs": [
    {
     "data": {
      "text/plain": [
       "tensor(4.1744)"
      ]
     },
     "execution_count": 14,
     "metadata": {},
     "output_type": "execute_result"
    }
   ],
   "source": [
    "-torch.log(torch.tensor(1/vocab_size)) # cross entropy if the prior is uniform (as it should be)\n",
    "# It's lower than the current loss so it's not good\n",
    "# we can resolve that by initalizing proprely but we won't do it here as it's just a baseline model"
   ]
  },
  {
   "cell_type": "code",
   "execution_count": 15,
   "metadata": {},
   "outputs": [
    {
     "name": "stdout",
     "output_type": "stream",
     "text": [
      "\n",
      "l-QYjt'CL?jLDuQcLzy'RIo;'KdhpV\n",
      "vLixa,nswYZwLEPS'ptIZqOZJ$CA$zy-QTkeMk x.gQSFCLg!iW3fO!3DGXAqTsq3pdgq\n"
     ]
    }
   ],
   "source": [
    "# Let's generate from the model \n",
    "idx = torch.zeros((1,1), dtype=torch.long) # just a zero tensor \n",
    "# zero represents a newline char in our dict so it's coherent to use it as a first char\n",
    "\n",
    "generated_idx = m.generate(idx, max_new_tokens=100)[0].tolist() # [0] because we access the \"single batch\"\n",
    "print(decode(generated_idx))"
   ]
  },
  {
   "cell_type": "code",
   "execution_count": 16,
   "metadata": {},
   "outputs": [
    {
     "data": {
      "text/plain": [
       "torch.Size([1, 101])"
      ]
     },
     "execution_count": 16,
     "metadata": {},
     "output_type": "execute_result"
    }
   ],
   "source": [
    "m.generate(idx, max_new_tokens=100).shape"
   ]
  },
  {
   "cell_type": "code",
   "execution_count": 17,
   "metadata": {},
   "outputs": [],
   "source": [
    "optimizer = torch.optim.AdamW(m.parameters(), lr=1e-3)"
   ]
  },
  {
   "cell_type": "code",
   "execution_count": 18,
   "metadata": {},
   "outputs": [
    {
     "name": "stdout",
     "output_type": "stream",
     "text": [
      "<bound method Module.parameters of BigramLanguageModel(\n",
      "  (token_embedding_table): Embedding(65, 65)\n",
      ")>\n"
     ]
    }
   ],
   "source": [
    "print(m.parameters)"
   ]
  },
  {
   "cell_type": "code",
   "execution_count": 19,
   "metadata": {},
   "outputs": [
    {
     "name": "stdout",
     "output_type": "stream",
     "text": [
      "2.416266441345215\n"
     ]
    }
   ],
   "source": [
    "# training loop \n",
    "batch_size = 32\n",
    "\n",
    "for steps in range(10000):\n",
    "    # sample a batch of data\n",
    "    xb, yb = get_batch('train')\n",
    "\n",
    "    # evaluate the loss\n",
    "    logits, loss = m(xb, yb)\n",
    "    optimizer.zero_grad(set_to_none=True)\n",
    "    loss.backward()\n",
    "    optimizer.step()\n",
    "\n",
    "print(loss.item())"
   ]
  },
  {
   "cell_type": "code",
   "execution_count": 20,
   "metadata": {},
   "outputs": [
    {
     "name": "stdout",
     "output_type": "stream",
     "text": [
      "\n",
      "BRouthe sssit ey\n",
      "KINld pe wither vouprroutherccnohathe; d!\n",
      "My hind tt hinig t ouchos tes; st yo hind wotte grotonear 'so itJas\n",
      "Waketancotha:\n",
      "h hay.JUCLUKn prids, r loncave w hollular s O:\n",
      "HIs; ht anjx?\n",
      "\n",
      "DUThinqunt.\n",
      "\n",
      "LaZEESTEORDY:\n",
      "h l.\n",
      "KEONGBUCHandspo be y,-JZNEEYowddy scace, tridesar, wnl'shenous s \n"
     ]
    }
   ],
   "source": [
    "# let's see how much we improved\n",
    "idx = torch.zeros((1,1), dtype=torch.long) \n",
    "print(decode(m.generate(idx, max_new_tokens=300)[0].tolist()))\n",
    "# It's way better that above (at initialization)\n",
    "# But its still terrible"
   ]
  },
  {
   "cell_type": "code",
   "execution_count": 22,
   "metadata": {},
   "outputs": [
    {
     "data": {
      "image/png": "[encoded data removed]",
      "text/plain": [
       "<Figure size 1500x1500 with 2 Axes>"
      ]
     },
     "metadata": {},
     "output_type": "display_data"
    }
   ],
   "source": [
    "import numpy as np\n",
    "\n",
    "import matplotlib.pyplot as plt\n",
    "\n",
    "# Get the weight matrix from our embedding table\n",
    "weights = m.token_embedding_table.weight.detach().cpu().numpy()\n",
    "\n",
    "plt.figure(figsize=(15, 15))\n",
    "plt.imshow(weights, cmap='viridis', aspect='auto')\n",
    "plt.colorbar()\n",
    "\n",
    "# Label rows and columns using itos (index-to-char mapping)\n",
    "plt.xticks(ticks=np.arange(vocab_size), labels=[itos[i] for i in range(vocab_size)], rotation=90, fontsize=8)\n",
    "plt.yticks(ticks=np.arange(vocab_size), labels=[itos[i] for i in range(vocab_size)], fontsize=8)\n",
    "\n",
    "plt.xlabel(\"Predicted Token\")\n",
    "plt.ylabel(\"Input Token\")\n",
    "plt.title(\"Heatmap of the Token Embedding Table\")\n",
    "plt.show()"
   ]
  },
  {
   "cell_type": "code",
   "execution_count": 23,
   "metadata": {},
   "outputs": [
    {
     "name": "stdout",
     "output_type": "stream",
     "text": [
      "torch.Size([256, 65])\n"
     ]
    }
   ],
   "source": [
    "print(logits.shape)"
   ]
  },
  {
   "cell_type": "markdown",
   "metadata": {},
   "source": [
    "# Let's start the GPT implementation. "
   ]
  },
  {
   "cell_type": "markdown",
   "metadata": {},
   "source": [
    "### The mathematical trick in self-attention"
   ]
  },
  {
   "cell_type": "code",
   "execution_count": null,
   "metadata": {},
   "outputs": [
    {
     "data": {
      "text/plain": [
       "torch.Size([4, 8, 2])"
      ]
     },
     "execution_count": 24,
     "metadata": {},
     "output_type": "execute_result"
    }
   ],
   "source": [
    "# consider the following toy example:\n",
    "B,T,C = 4,8,2\n",
    "x = torch.randn(B,T,C)\n",
    "x.shape"
   ]
  },
  {
   "cell_type": "code",
   "execution_count": 25,
   "metadata": {},
   "outputs": [
    {
     "data": {
      "text/plain": [
       "(tensor([[-0.1978,  0.5817],\n",
       "         [ 0.3381, -0.3723],\n",
       "         [-0.1780,  0.0046],\n",
       "         [-1.9912, -1.1509],\n",
       "         [ 0.1407,  2.4141],\n",
       "         [-1.1666,  1.3247],\n",
       "         [ 0.6259,  0.0284],\n",
       "         [-1.5851, -1.2515]]),\n",
       " tensor([[-0.1978,  0.5817],\n",
       "         [ 0.0701,  0.1047],\n",
       "         [-0.0126,  0.0713],\n",
       "         [-0.5072, -0.2342],\n",
       "         [-0.3776,  0.2954],\n",
       "         [-0.5091,  0.4670],\n",
       "         [-0.3470,  0.4043],\n",
       "         [-0.5017,  0.1973]]))"
      ]
     },
     "execution_count": 25,
     "metadata": {},
     "output_type": "execute_result"
    }
   ],
   "source": [
    "# version 1:\n",
    "# One way to use the context is to take the average of the previous chars:\n",
    "xbow = torch.zeros((B,T,C)) # bow : bag of words\n",
    "for b in range(B):\n",
    "    for t in range(T):\n",
    "        xprev = x[b, :t+1] # (t,C)\n",
    "        xbow[b,t] = torch.mean(xprev, 0)\n",
    "\n",
    "x[0], xbow[0] # each line of the xbow[0] is the avg of the previous lines of x[0]"
   ]
  },
  {
   "cell_type": "code",
   "execution_count": 26,
   "metadata": {},
   "outputs": [
    {
     "name": "stdout",
     "output_type": "stream",
     "text": [
      "tensor([[1., 0., 0.],\n",
      "        [1., 1., 0.],\n",
      "        [1., 1., 1.]])\n",
      "tensor([[6., 5.],\n",
      "        [0., 4.],\n",
      "        [6., 1.]])\n",
      "tensor([[ 6.,  5.],\n",
      "        [ 6.,  9.],\n",
      "        [12., 10.]])\n"
     ]
    }
   ],
   "source": [
    "# The trick is that we can do that very efficiently using matrix multiplication \n",
    "a = torch.tril(torch.ones(3,3))\n",
    "b = torch.randint(0,10,(3,2)).float()\n",
    "c = a @ b\n",
    "\n",
    "print(a)\n",
    "print(b)\n",
    "print(c)\n",
    "\n",
    "# for each line of c, we have the vertical sum of the previous lines of b "
   ]
  },
  {
   "cell_type": "code",
   "execution_count": 27,
   "metadata": {},
   "outputs": [
    {
     "name": "stdout",
     "output_type": "stream",
     "text": [
      "tensor([[1.0000, 0.0000, 0.0000],\n",
      "        [0.5000, 0.5000, 0.0000],\n",
      "        [0.3333, 0.3333, 0.3333]])\n",
      "tensor([[8., 4.],\n",
      "        [9., 3.],\n",
      "        [3., 5.]])\n",
      "tensor([[8.0000, 4.0000],\n",
      "        [8.5000, 3.5000],\n",
      "        [6.6667, 4.0000]])\n"
     ]
    }
   ],
   "source": [
    "# to go from sum to avg, we simply normalize a\n",
    "a = a / torch.sum(a,1,keepdim=True)\n",
    "b = torch.randint(0,10,(3,2)).float()\n",
    "c = a @ b\n",
    "\n",
    "print(a)\n",
    "print(b)\n",
    "print(c) # it's the avg as we wanted"
   ]
  },
  {
   "cell_type": "code",
   "execution_count": 28,
   "metadata": {},
   "outputs": [
    {
     "data": {
      "text/plain": [
       "True"
      ]
     },
     "execution_count": 28,
     "metadata": {},
     "output_type": "execute_result"
    }
   ],
   "source": [
    "# version 2:\n",
    "# Let's apply that to our bow \n",
    "wei = torch.tril(torch.ones(T,T)) # wei for weights\n",
    "wei = wei/wei.sum(1, keepdim=True)\n",
    "xbow2 = wei @ x # (T,T) @ (B,T,C) --> (B,T,C)\n",
    "# pytorch will see that there is a dim missing so (T,T) --> (B,T,T)\n",
    "# and it will perform the matrix mul for each batch in parallel\n",
    "# i.e for each batch, we multiply a (T,T) @ (T,C) just as above \n",
    "torch.allclose(xbow, xbow2) # they are equal "
   ]
  },
  {
   "cell_type": "code",
   "execution_count": 29,
   "metadata": {},
   "outputs": [
    {
     "data": {
      "text/plain": [
       "(tensor([[-0.1978,  0.5817],\n",
       "         [ 0.0701,  0.1047],\n",
       "         [-0.0126,  0.0713],\n",
       "         [-0.5072, -0.2342],\n",
       "         [-0.3776,  0.2954],\n",
       "         [-0.5091,  0.4670],\n",
       "         [-0.3470,  0.4043],\n",
       "         [-0.5017,  0.1973]]),\n",
       " tensor([[-0.1978,  0.5817],\n",
       "         [ 0.0701,  0.1047],\n",
       "         [-0.0126,  0.0713],\n",
       "         [-0.5072, -0.2342],\n",
       "         [-0.3776,  0.2954],\n",
       "         [-0.5091,  0.4670],\n",
       "         [-0.3470,  0.4043],\n",
       "         [-0.5017,  0.1973]]))"
      ]
     },
     "execution_count": 29,
     "metadata": {},
     "output_type": "execute_result"
    }
   ],
   "source": [
    "xbow[0], xbow2[0]"
   ]
  },
  {
   "cell_type": "code",
   "execution_count": 30,
   "metadata": {},
   "outputs": [
    {
     "name": "stdout",
     "output_type": "stream",
     "text": [
      "tensor([[1., 0., 0., 0., 0., 0., 0., 0.],\n",
      "        [1., 1., 0., 0., 0., 0., 0., 0.],\n",
      "        [1., 1., 1., 0., 0., 0., 0., 0.],\n",
      "        [1., 1., 1., 1., 0., 0., 0., 0.],\n",
      "        [1., 1., 1., 1., 1., 0., 0., 0.],\n",
      "        [1., 1., 1., 1., 1., 1., 0., 0.],\n",
      "        [1., 1., 1., 1., 1., 1., 1., 0.],\n",
      "        [1., 1., 1., 1., 1., 1., 1., 1.]])\n",
      "tensor([[0., -inf, -inf, -inf, -inf, -inf, -inf, -inf],\n",
      "        [0., 0., -inf, -inf, -inf, -inf, -inf, -inf],\n",
      "        [0., 0., 0., -inf, -inf, -inf, -inf, -inf],\n",
      "        [0., 0., 0., 0., -inf, -inf, -inf, -inf],\n",
      "        [0., 0., 0., 0., 0., -inf, -inf, -inf],\n",
      "        [0., 0., 0., 0., 0., 0., -inf, -inf],\n",
      "        [0., 0., 0., 0., 0., 0., 0., -inf],\n",
      "        [0., 0., 0., 0., 0., 0., 0., 0.]])\n"
     ]
    },
    {
     "data": {
      "text/plain": [
       "tensor([[1.0000, 0.0000, 0.0000, 0.0000, 0.0000, 0.0000, 0.0000, 0.0000],\n",
       "        [0.5000, 0.5000, 0.0000, 0.0000, 0.0000, 0.0000, 0.0000, 0.0000],\n",
       "        [0.3333, 0.3333, 0.3333, 0.0000, 0.0000, 0.0000, 0.0000, 0.0000],\n",
       "        [0.2500, 0.2500, 0.2500, 0.2500, 0.0000, 0.0000, 0.0000, 0.0000],\n",
       "        [0.2000, 0.2000, 0.2000, 0.2000, 0.2000, 0.0000, 0.0000, 0.0000],\n",
       "        [0.1667, 0.1667, 0.1667, 0.1667, 0.1667, 0.1667, 0.0000, 0.0000],\n",
       "        [0.1429, 0.1429, 0.1429, 0.1429, 0.1429, 0.1429, 0.1429, 0.0000],\n",
       "        [0.1250, 0.1250, 0.1250, 0.1250, 0.1250, 0.1250, 0.1250, 0.1250]])"
      ]
     },
     "execution_count": 30,
     "metadata": {},
     "output_type": "execute_result"
    }
   ],
   "source": [
    "# we have a third version for the same thing using SOFTMAX\n",
    "tril = torch.tril(torch.ones(T,T))\n",
    "wei = torch.zeros((T,T))\n",
    "wei = wei.masked_fill(tril == 0, float('-inf')) # every element that is 0 in tril, replace it with -inf\n",
    "print(tril)\n",
    "print(wei) # wei is now a triangular sup matrix with only -inf\n",
    "\n",
    "# What happens if we take a softmax of that ? \n",
    "# it will normalize it with -inf --> 0 and the rest is uniform (only zeros) so they will get the same weight\n",
    "# remember, we exponentiate and divide by their exp sum\n",
    "F.softmax(wei, dim=-1) # same as before as excpected"
   ]
  },
  {
   "cell_type": "code",
   "execution_count": 31,
   "metadata": {},
   "outputs": [
    {
     "data": {
      "text/plain": [
       "True"
      ]
     },
     "execution_count": 31,
     "metadata": {},
     "output_type": "execute_result"
    }
   ],
   "source": [
    "# version 3\n",
    "tril = torch.tril(torch.ones(T,T))\n",
    "wei = torch.zeros((T,T))\n",
    "wei = wei.masked_fill(tril == 0, float('-inf'))\n",
    "wei = F.softmax(wei, dim=1)\n",
    "xbow3 = wei @ x\n",
    "torch.allclose(xbow, xbow3)\n",
    "\n",
    "# it's better because : \n",
    "# The weights tell us how much tokens from the past do we wan't to agregate (avg)\n",
    "# adding the -inf make sure that we are not using the future \n",
    "# then we aggregate using the mat mul\n",
    "# here, we set the initial weights at 0, but the idea is that they will be data dependant to give more or less important to certain terms (affinities)\n",
    "# it will be learned by the network\n",
    "# and the aggregation will be weighted depending on these affinities"
   ]
  },
  {
   "cell_type": "markdown",
   "metadata": {},
   "source": [
    "### first self attention head:\n",
    "\n",
    "Of course, we don't wan't the weights to be uniform. Because different tokens will find different tokens more interesting.\n",
    "\n",
    "ex: if i'm a vowel, i wan't to know consonantes in my past and i wan't this information to flow to me\n",
    "\n",
    "i.e I wan't info about the past in a data dependant way\n",
    "\n",
    "This is the problem SELF ATTENTION solves"
   ]
  },
  {
   "cell_type": "markdown",
   "metadata": {},
   "source": [
    "### The attention mechanism\n",
    "\n",
    "every single token at each position, will emit two vectores : a query and a key\n",
    "- the query is a vector that represents the token's interest in other tokens (i.e what do i want to know about the past)\n",
    "- the key is a vector that represents the token's importance to other tokens (i.e what do i contain or have to offer)\n",
    "\n",
    "The way we get affinities between tokens is by taking the dot product between the query and the key of each token.\n",
    "- the dot product is a measure of similarity between two vectors. The higher the dot product, the more similar the two vectors are.\n",
    "- the dot product is a measure of how much one vector is interested in the other vector. The higher the dot product, the more interested the first vector is in the second vector.\n",
    "\n",
    "The value is a vector that represents the token's content. The value is what the token contains and what it has to offer to other tokens."
   ]
  },
  {
   "cell_type": "code",
   "execution_count": 32,
   "metadata": {},
   "outputs": [
    {
     "name": "stdout",
     "output_type": "stream",
     "text": [
      "wei of first batch after dot products \n",
      " tensor([[ 1.0004, -1.0280, -0.2258, -0.1421, -0.6368, -0.9118,  0.2637,  0.0343],\n",
      "        [ 0.2846, -0.5018,  0.2056, -0.1653, -0.8918,  0.1400, -0.7217,  0.4835],\n",
      "        [ 1.1432,  0.2151, -1.7633, -0.1948, -0.2543, -0.7589,  1.2835, -2.0405],\n",
      "        [ 0.4753,  1.1954, -1.2881, -1.3995,  0.7375,  0.5176,  1.2775, -1.9807],\n",
      "        [ 4.0341, -0.1778, -0.0640, -0.4808, -1.4677, -0.8874,  0.7764, -1.3083],\n",
      "        [ 1.5446, -1.1169,  1.9247,  0.0215,  0.6122, -0.7963, -0.9995,  1.4517],\n",
      "        [-1.5210,  0.4365,  1.1918, -0.8380,  0.4603,  1.1587, -0.1713,  1.6188],\n",
      "        [-1.4198,  0.7856,  0.1288,  0.6766, -0.8375,  0.2476,  0.6278,  0.0468]],\n",
      "       grad_fn=<SelectBackward0>)\n",
      "wei wei of first batch after masking \n",
      " tensor([[ 1.0004,    -inf,    -inf,    -inf,    -inf,    -inf,    -inf,    -inf],\n",
      "        [ 0.2846, -0.5018,    -inf,    -inf,    -inf,    -inf,    -inf,    -inf],\n",
      "        [ 1.1432,  0.2151, -1.7633,    -inf,    -inf,    -inf,    -inf,    -inf],\n",
      "        [ 0.4753,  1.1954, -1.2881, -1.3995,    -inf,    -inf,    -inf,    -inf],\n",
      "        [ 4.0341, -0.1778, -0.0640, -0.4808, -1.4677,    -inf,    -inf,    -inf],\n",
      "        [ 1.5446, -1.1169,  1.9247,  0.0215,  0.6122, -0.7963,    -inf,    -inf],\n",
      "        [-1.5210,  0.4365,  1.1918, -0.8380,  0.4603,  1.1587, -0.1713,    -inf],\n",
      "        [-1.4198,  0.7856,  0.1288,  0.6766, -0.8375,  0.2476,  0.6278,  0.0468]],\n",
      "       grad_fn=<SelectBackward0>)\n",
      "final wei of first batch after softmax \n",
      " tensor([[1.0000, 0.0000, 0.0000, 0.0000, 0.0000, 0.0000, 0.0000, 0.0000],\n",
      "        [0.6871, 0.3129, 0.0000, 0.0000, 0.0000, 0.0000, 0.0000, 0.0000],\n",
      "        [0.6897, 0.2726, 0.0377, 0.0000, 0.0000, 0.0000, 0.0000, 0.0000],\n",
      "        [0.2959, 0.6080, 0.0507, 0.0454, 0.0000, 0.0000, 0.0000, 0.0000],\n",
      "        [0.9556, 0.0142, 0.0159, 0.0105, 0.0039, 0.0000, 0.0000, 0.0000],\n",
      "        [0.3086, 0.0216, 0.4514, 0.0673, 0.1215, 0.0297, 0.0000, 0.0000],\n",
      "        [0.0197, 0.1393, 0.2965, 0.0390, 0.1427, 0.2869, 0.0759, 0.0000],\n",
      "        [0.0238, 0.2156, 0.1118, 0.1933, 0.0425, 0.1259, 0.1841, 0.1030]],\n",
      "       grad_fn=<SelectBackward0>)\n",
      "we then mutliply it with the value of x to get the aggregations\n",
      "here is the first batch of values : \n",
      " tensor([[ 0.1991,  0.5946,  0.9502,  1.7711,  0.6024,  0.3468,  0.4330,  0.1819,\n",
      "          0.0352, -0.5203, -0.3695,  0.2536, -0.7190, -0.4167,  0.2964,  0.8433],\n",
      "        [ 0.4983,  0.2753, -0.3824,  0.2475, -0.6947, -0.9893, -0.3065,  0.4284,\n",
      "          0.9245,  0.0319,  0.5231, -0.4901, -0.3363,  0.2447,  0.0501,  0.6713],\n",
      "        [-0.0483, -0.4929, -0.2238, -0.2401, -0.2330, -0.1733,  0.2738,  0.3949,\n",
      "         -0.3090,  0.6483, -0.1540,  1.4637, -0.1968, -0.2445,  0.1743,  0.4347],\n",
      "        [ 0.3959, -1.6669,  1.0099, -0.4712,  0.0246, -0.0093, -0.1117,  0.3931,\n",
      "         -0.4653,  0.4867, -0.4918,  0.5358, -0.0841,  0.5039,  0.5097, -0.2116],\n",
      "        [-0.3625, -0.6497, -0.2540,  0.0716, -0.0071,  0.2848,  1.2055,  0.8406,\n",
      "          0.5359, -0.2008, -1.0039,  1.0758,  0.1775, -0.7314,  0.6816,  0.2328],\n",
      "        [-1.5019,  1.0397,  0.6030,  0.0611, -0.1194,  0.1663, -0.4277, -0.2043,\n",
      "          1.1712,  0.4036, -0.0602, -0.6718, -0.4116, -0.1898,  0.3420,  0.5467],\n",
      "        [-0.0331, -0.3071,  0.5337,  0.8224, -0.4776,  0.1242,  0.1816,  0.1224,\n",
      "          0.3177, -0.6327, -0.0651, -1.3513,  0.3539,  0.9263, -0.1183,  0.0682],\n",
      "        [ 0.6050, -1.3332,  0.7874, -0.3108, -1.0726, -0.4936, -0.0908,  0.2647,\n",
      "         -0.0156, -0.0668, -1.0546,  0.0815,  1.1952, -0.8724,  0.3606,  0.3325]],\n",
      "       grad_fn=<SelectBackward0>)\n",
      "the output for the first batch: \n",
      " tensor([[ 0.1991,  0.5946,  0.9502,  1.7711,  0.6024,  0.3468,  0.4330,  0.1819,\n",
      "          0.0352, -0.5203, -0.3695,  0.2536, -0.7190, -0.4167,  0.2964,  0.8433],\n",
      "        [ 0.2927,  0.4947,  0.5331,  1.2943,  0.1965, -0.0713,  0.2016,  0.2590,\n",
      "          0.3135, -0.3475, -0.0902,  0.0209, -0.5992, -0.2097,  0.2193,  0.7895],\n",
      "        [ 0.2713,  0.4666,  0.5426,  1.2799,  0.2173, -0.0371,  0.2254,  0.2571,\n",
      "          0.2647, -0.3257, -0.1180,  0.0965, -0.5950, -0.2299,  0.2246,  0.7810],\n",
      "        [ 0.3774,  0.2427,  0.0831,  0.6410, -0.2548, -0.5080, -0.0494,  0.3522,\n",
      "          0.5357, -0.0796,  0.1786, -0.1243, -0.4310,  0.0360,  0.1501,  0.6701],\n",
      "        [ 0.1993,  0.5443,  0.9086,  1.6876,  0.5624,  0.3157,  0.4174,  0.1935,\n",
      "          0.0390, -0.4821, -0.3572,  0.2685, -0.6951, -0.3962,  0.2947,  0.8210],\n",
      "        [-0.0116, -0.1932,  0.2390,  0.4224,  0.0630,  0.0464,  0.3769,  0.3661,\n",
      "         -0.0401,  0.1531, -0.3291,  0.8751, -0.3143, -0.2943,  0.2985,  0.5012],\n",
      "        [-0.4107,  0.0212,  0.1156,  0.0699, -0.2246, -0.0850,  0.1058,  0.2663,\n",
      "          0.4564,  0.2446, -0.1647,  0.2499, -0.1885, -0.1155,  0.2708,  0.4261],\n",
      "        [ 0.0350, -0.3945,  0.3548,  0.1077, -0.3705, -0.2211, -0.0252,  0.2767,\n",
      "          0.3028,  0.0800, -0.1792, -0.1116,  0.0161,  0.1387,  0.2233,  0.2980]],\n",
      "       grad_fn=<SelectBackward0>)\n"
     ]
    },
    {
     "data": {
      "text/plain": [
       "torch.Size([4, 8, 16])"
      ]
     },
     "execution_count": 32,
     "metadata": {},
     "output_type": "execute_result"
    }
   ],
   "source": [
    "# version 4: self-attention\n",
    "B,T,C = 4,8,32\n",
    "x = torch.randn(B,T,C)\n",
    "\n",
    "# let's see a single Head perform self-attention\n",
    "head_size = 16 \n",
    "key = nn.Linear(C, head_size, bias=False)\n",
    "query = nn.Linear(C, head_size, bias=False)\n",
    "value = nn.Linear(C, head_size, bias=False)\n",
    "\n",
    "k = key(x)   # (B,T,16)\n",
    "q = query(x) # (B,T,16)\n",
    "# at this point, no communication happened between the tokens\n",
    "# now it does:\n",
    "wei = q @ k.transpose(-2,-1) # -2 is T, -1 is head_size, (B,T,16) @ (B,16,T) --> (B,T,T)\n",
    "print(f\"wei of first batch after dot products \\n {wei[0]}\")\n",
    "\n",
    "tril = torch.tril(torch.ones(T,T))\n",
    "wei = wei.masked_fill(tril == 0, float('-inf'))\n",
    "print(f\"wei wei of first batch after masking \\n {wei[0]}\")\n",
    "\n",
    "wei = F.softmax(wei, dim=-1)\n",
    "print(f\"final wei of first batch after softmax \\n {wei[0]}\")\n",
    "\n",
    "v = value(x)\n",
    "print(\"we then mutliply it with the value of x to get the aggregations\")\n",
    "print(f\"here is the first batch of values : \\n {v[0]}\")\n",
    "\n",
    "out = wei @ v\n",
    "print(f\"the output for the first batch: \\n {out[0]}\")\n",
    "\n",
    "out.shape\n",
    "# when the affinities are all 0, the aggregation is simply an average"
   ]
  },
  {
   "cell_type": "markdown",
   "metadata": {},
   "source": [
    "### Here we've implemented the attention mechanism in a single head\n",
    "\n",
    "but we omitted the scaling factor that appears in the paper (1/sqrt(head_size)).\n",
    "\n",
    "It is important because we have unit gaussian in k and q at initialization, so wei = q @ k.T will be a gaussian with variance head_size.\n",
    "\n",
    "So the variance may get too large if we don't scale it down. And this will result in a softmax that is too peaked because some values will be too large and some will be too small. Therefore, it will converge toward a \"one-hot\" vector. Meaning that the attention will be almost entirely focused on one token and the other will be ignored. \n",
    "\n",
    "We solve that issue by scaling the dot product by 1/sqrt(head_size) as it will keep the variance of the dot product close to 1. "
   ]
  },
  {
   "cell_type": "code",
   "execution_count": null,
   "metadata": {},
   "outputs": [
    {
     "name": "stdout",
     "output_type": "stream",
     "text": [
      "tensor(0.9956) tensor(0.9729) tensor(16.0171)\n",
      "tensor(1.0011)\n"
     ]
    }
   ],
   "source": [
    "# var stays close to 1 vs head_size : \n",
    "k = torch.randn(B,T,head_size)\n",
    "q = torch.randn(B,T,head_size)\n",
    "wei = q @ k.transpose(-2,-1)\n",
    "print(k.var(), q.var(), wei.var())\n",
    "wei_scaled = q @ k.transpose(-2,-1) * head_size**-0.5\n",
    "print(wei_scaled.var()) # it's close to 1 vs head_size"
   ]
  },
  {
   "cell_type": "code",
   "execution_count": null,
   "metadata": {},
   "outputs": [
    {
     "name": "stdout",
     "output_type": "stream",
     "text": [
      "tensor(13.2411)\n",
      "tensor([[    1.0000,     0.0000,     0.0000,     0.0000,     0.0000],\n",
      "        [    0.0001,     0.9999,     0.0000,     0.0000,     0.0000],\n",
      "        [    0.0730,     0.0385,     0.8885,     0.0000,     0.0000],\n",
      "        [    0.0027,     0.0080,     0.9728,     0.0165,     0.0000],\n",
      "        [    0.7237,     0.0498,     0.2174,     0.0008,     0.0083]])\n",
      "tensor(0.7987)\n",
      "tensor([[1.0000, 0.0000, 0.0000, 0.0000, 0.0000],\n",
      "        [0.5262, 0.4738, 0.0000, 0.0000, 0.0000],\n",
      "        [0.2496, 0.1173, 0.6331, 0.0000, 0.0000],\n",
      "        [0.3997, 0.2652, 0.1502, 0.1850, 0.0000],\n",
      "        [0.4799, 0.0258, 0.0588, 0.0402, 0.3953]])\n"
     ]
    }
   ],
   "source": [
    "# impact of high var in wei values\n",
    "wei = torch.randn(B, 5, 5) * head_size**0.5 # init wei with a head_size var \n",
    "print(wei.var()) # head size\n",
    "tril = torch.tril(torch.ones(5,5))\n",
    "wei = wei.masked_fill(tril == 0, float('-inf'))\n",
    "softmaxed = F.softmax(wei, dim=-1)[0]\n",
    "torch.set_printoptions(sci_mode=False, precision=4)\n",
    "print(softmaxed)\n",
    "wei_scaled = torch.randn(B, 5, 5) # init wei with a var of 1 \n",
    "print(wei_scaled.var()) # 1\n",
    "tril = torch.tril(torch.ones(5,5))\n",
    "wei_scaled = wei_scaled.masked_fill(tril == 0, float('-inf'))\n",
    "softmaxed_scaled = F.softmax(wei_scaled, dim=-1)[0]\n",
    "print(softmaxed_scaled)\n",
    "\n",
    "# we see that some are very high and others are very low in the first case\n",
    "# so the attention will weigh some tokens way too much \n",
    "# whereas it's more diffuse in the second example"
   ]
  }
 ],
 "metadata": {
  "kernelspec": {
   "display_name": "torch_GPU",
   "language": "python",
   "name": "python3"
  },
  "language_info": {
   "codemirror_mode": {
    "name": "ipython",
    "version": 3
   },
   "file_extension": ".py",
   "mimetype": "text/x-python",
   "name": "python",
   "nbconvert_exporter": "python",
   "pygments_lexer": "ipython3",
   "version": "3.12.9"
  }
 },
 "nbformat": 4,
 "nbformat_minor": 2
}
